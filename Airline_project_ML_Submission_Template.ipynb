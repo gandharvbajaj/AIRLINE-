{
  "nbformat": 4,
  "nbformat_minor": 0,
  "metadata": {
    "colab": {
      "private_outputs": true,
      "provenance": [],
      "collapsed_sections": [
        "Iwf50b-R2tYG",
        "GMQiZwjn3iu7",
        "WVIkgGqN3qsr",
        "XkPnILGE3zoT",
        "Hlsf0x5436Go",
        "mT9DMSJo4nBL",
        "c49ITxTc407N",
        "OeJFEK0N496M",
        "9ExmJH0g5HBk",
        "cJNqERVU536h",
        "k5UmGsbsOxih",
        "T0VqWOYE6DLQ",
        "qBMux9mC6MCf",
        "2DejudWSA-a0",
        "pEMng2IbBLp7",
        "rAdphbQ9Bhjc",
        "nqoHp30x9hH9",
        "yiiVWRdJDDil",
        "qdOF8dsKbimG",
        "-Kee-DAl2viO",
        "gIfDvo9L0UH2"
      ],
      "toc_visible": true
    },
    "kernelspec": {
      "name": "python3",
      "display_name": "Python 3"
    },
    "language_info": {
      "name": "python"
    }
  },
  "cells": [
    {
      "cell_type": "markdown",
      "source": [
        "# **Project Name**    -\n",
        "\n"
      ],
      "metadata": {
        "id": "vncDsAP0Gaoa"
      }
    },
    {
      "cell_type": "markdown",
      "source": [
        "##### **Project Type**    - Classification\n",
        "##### **Contribution**    - Individual/GANDHARV BAJAJ\n",
        "##### **Team Member 1 -**\n",
        "##### **Team Member 2 -**\n",
        "##### **Team Member 3 -**\n",
        "##### **Team Member 4 -**"
      ],
      "metadata": {
        "id": "beRrZCGUAJYm"
      }
    },
    {
      "cell_type": "markdown",
      "source": [
        "# **Project Summary -**"
      ],
      "metadata": {
        "id": "FJNUwmbgGyua"
      }
    },
    {
      "cell_type": "markdown",
      "source": [
        "The project aims to predict whether a passenger referred by an existing customer will book a flight or not, based on various features such as seat comfort, cabin service, travel class,food beverage , entertainment service, etc. The prediction model is developed using classification techniques in machine learning.The use of machine learning techniques allows for the development of a model that can learn from historical passenger and booking data and make accurate predictions on new data. The model can be used by airlines to target marketing campaigns towards potential passengers who are likely to book a flight based on a referral from an existing customer."
      ],
      "metadata": {
        "id": "F6v_1wHtG2nS"
      }
    },
    {
      "cell_type": "markdown",
      "source": [
        "# **GitHub Link -**"
      ],
      "metadata": {
        "id": "w6K7xa23Elo4"
      }
    },
    {
      "cell_type": "markdown",
      "source": [
        "Provide your GitHub Link here."
      ],
      "metadata": {
        "id": "h1o69JH3Eqqn"
      }
    },
    {
      "cell_type": "markdown",
      "source": [
        "# **Problem Statement**\n"
      ],
      "metadata": {
        "id": "yQaldy8SH6Dl"
      }
    },
    {
      "cell_type": "markdown",
      "source": [
        "**.**The main objective is to find and predict whether the costumer will recomend the airline to his? her family or friend or not."
      ],
      "metadata": {
        "id": "DpeJGUA3kjGy"
      }
    },
    {
      "cell_type": "markdown",
      "source": [
        "# **General Guidelines** : -  "
      ],
      "metadata": {
        "id": "mDgbUHAGgjLW"
      }
    },
    {
      "cell_type": "markdown",
      "source": [
        "1.   Well-structured, formatted, and commented code is required.\n",
        "2.   Exception Handling, Production Grade Code & Deployment Ready Code will be a plus. Those students will be awarded some additional credits.\n",
        "     \n",
        "     The additional credits will have advantages over other students during Star Student selection.\n",
        "       \n",
        "             [ Note: - Deployment Ready Code is defined as, the whole .ipynb notebook should be executable in one go\n",
        "                       without a single error logged. ]\n",
        "\n",
        "3.   Each and every logic should have proper comments.\n",
        "4. You may add as many number of charts you want. Make Sure for each and every chart the following format should be answered.\n",
        "        \n",
        "\n",
        "```\n",
        "# Chart visualization code\n",
        "```\n",
        "            \n",
        "\n",
        "*   Why did you pick the specific chart?\n",
        "*   What is/are the insight(s) found from the chart?\n",
        "* Will the gained insights help creating a positive business impact?\n",
        "Are there any insights that lead to negative growth? Justify with specific reason.\n",
        "\n",
        "5. You have to create at least 15 logical & meaningful charts having important insights.\n",
        "\n",
        "\n",
        "[ Hints : - Do the Vizualization in  a structured way while following \"UBM\" Rule.\n",
        "\n",
        "U - Univariate Analysis,\n",
        "\n",
        "B - Bivariate Analysis (Numerical - Categorical, Numerical - Numerical, Categorical - Categorical)\n",
        "\n",
        "M - Multivariate Analysis\n",
        " ]\n",
        "\n",
        "\n",
        "\n",
        "\n",
        "\n",
        "6. You may add more ml algorithms for model creation. Make sure for each and every algorithm, the following format should be answered.\n",
        "\n",
        "\n",
        "*   Explain the ML Model used and it's performance using Evaluation metric Score Chart.\n",
        "\n",
        "\n",
        "*   Cross- Validation & Hyperparameter Tuning\n",
        "\n",
        "*   Have you seen any improvement? Note down the improvement with updates Evaluation metric Score Chart.\n",
        "\n",
        "*   Explain each evaluation metric's indication towards business and the business impact pf the ML model used.\n",
        "\n",
        "\n",
        "\n",
        "\n",
        "\n",
        "\n",
        "\n",
        "\n",
        "\n",
        "\n",
        "\n",
        "\n",
        "\n",
        "\n",
        "\n",
        "\n",
        "\n",
        "\n"
      ],
      "metadata": {
        "id": "ZrxVaUj-hHfC"
      }
    },
    {
      "cell_type": "markdown",
      "source": [
        "# ***Let's Begin !***"
      ],
      "metadata": {
        "id": "O_i_v8NEhb9l"
      }
    },
    {
      "cell_type": "markdown",
      "source": [
        "## ***1. Know Your Data***"
      ],
      "metadata": {
        "id": "HhfV-JJviCcP"
      }
    },
    {
      "cell_type": "markdown",
      "source": [
        "### Import Libraries"
      ],
      "metadata": {
        "id": "Y3lxredqlCYt"
      }
    },
    {
      "cell_type": "code",
      "source": [
        "# Import Libraries\n",
        "import numpy as np\n",
        "import pandas as pd\n",
        "from numpy import math\n",
        "from numpy import loadtxt\n",
        "import seaborn as sns\n",
        "import matplotlib.pyplot as plt\n",
        "%matplotlib inline\n",
        "from matplotlib import rcParams\n",
        "!pip install pymysql\n",
        "import pymysql\n",
        "from sqlalchemy import create_engine\n",
        "from sqlalchemy.pool import NullPool\n",
        "\n",
        "import numpy as np\n",
        "import seaborn as sns\n",
        "from scipy.stats import *\n",
        "import math\n",
        "\n",
        "from statsmodels.stats.outliers_influence import variance_inflation_factor\n",
        "from sklearn.preprocessing import StandardScaler\n",
        "from sklearn.model_selection import train_test_split\n",
        "from imblearn.over_sampling import SMOTE\n",
        "from sklearn.linear_model import LogisticRegression\n",
        "from sklearn.tree import DecisionTreeClassifier\n",
        "from sklearn.ensemble import RandomForestClassifier\n",
        "from sklearn.model_selection import GridSearchCV\n",
        "from sklearn.model_selection import KFold\n",
        "from sklearn.model_selection import RepeatedStratifiedKFold\n",
        "from xgboost import XGBClassifier\n",
        "from xgboost import XGBRFClassifier\n",
        "from sklearn.tree import export_graphviz\n",
        "\n",
        "!pip install shap==0.40.0\n",
        "import shap\n",
        "import graphviz\n",
        "sns.set_style('darkgrid')\n",
        "\n",
        " #Installing sweetviz\n",
        "!pip install sweetviz\n",
        "import warnings\n",
        "warnings.filterwarnings('ignore')"
      ],
      "metadata": {
        "id": "M8Vqi-pPk-HR"
      },
      "execution_count": null,
      "outputs": []
    },
    {
      "cell_type": "code",
      "source": [
        "#libraries for model evalution\n",
        "from sklearn import metrics\n",
        "from sklearn.metrics import accuracy_score, confusion_matrix, classification_report\n",
        "from sklearn.metrics import recall_score,f1_score,roc_curve, roc_auc_score,precision_score"
      ],
      "metadata": {
        "id": "KKx18_UcQetw"
      },
      "execution_count": null,
      "outputs": []
    },
    {
      "cell_type": "markdown",
      "source": [
        "### Dataset Loading"
      ],
      "metadata": {
        "id": "3RnN4peoiCZX"
      }
    },
    {
      "cell_type": "code",
      "source": [
        "from google.colab import drive\n",
        "drive.mount('/content/drive')"
      ],
      "metadata": {
        "id": "bGn1YkMsxtmm"
      },
      "execution_count": null,
      "outputs": []
    },
    {
      "cell_type": "markdown",
      "source": [
        "### Dataset First View"
      ],
      "metadata": {
        "id": "x71ZqKXriCWQ"
      }
    },
    {
      "cell_type": "code",
      "source": [
        "df = pd.read_excel('/content/drive/MyDrive/data_airline_reviews.xlsx')"
      ],
      "metadata": {
        "id": "EKuDoKW37h3M"
      },
      "execution_count": null,
      "outputs": []
    },
    {
      "cell_type": "code",
      "source": [
        "# Dataset First Look\n",
        "df.head()"
      ],
      "metadata": {
        "id": "LWNFOSvLl09H"
      },
      "execution_count": null,
      "outputs": []
    },
    {
      "cell_type": "code",
      "source": [
        "df.tail()"
      ],
      "metadata": {
        "id": "pP_s0Eli4Iuf"
      },
      "execution_count": null,
      "outputs": []
    },
    {
      "cell_type": "markdown",
      "source": [
        "### Dataset Rows & Columns count"
      ],
      "metadata": {
        "id": "7hBIi_osiCS2"
      }
    },
    {
      "cell_type": "code",
      "source": [
        "# Dataset Rows & Columns count\n",
        "df.shape\n"
      ],
      "metadata": {
        "id": "Kllu7SJgmLij"
      },
      "execution_count": null,
      "outputs": []
    },
    {
      "cell_type": "markdown",
      "source": [
        "### Dataset Information"
      ],
      "metadata": {
        "id": "JlHwYmJAmNHm"
      }
    },
    {
      "cell_type": "code",
      "source": [
        "# Dataset Info\n",
        "df.info()"
      ],
      "metadata": {
        "id": "e9hRXRi6meOf"
      },
      "execution_count": null,
      "outputs": []
    },
    {
      "cell_type": "markdown",
      "source": [
        "#### Duplicate Values"
      ],
      "metadata": {
        "id": "35m5QtbWiB9F"
      }
    },
    {
      "cell_type": "code",
      "source": [
        "# Dataset Duplicate Value Count\n",
        "len(df[df.duplicated])"
      ],
      "metadata": {
        "id": "1sLdpKYkmox0"
      },
      "execution_count": null,
      "outputs": []
    },
    {
      "cell_type": "code",
      "source": [
        "df.duplicated()"
      ],
      "metadata": {
        "id": "fdloaqg75v_j"
      },
      "execution_count": null,
      "outputs": []
    },
    {
      "cell_type": "code",
      "source": [
        "#dropiing the duplicate values\n",
        "df.drop_duplicates(inplace=True)"
      ],
      "metadata": {
        "id": "LH6V1bWr6G6E"
      },
      "execution_count": null,
      "outputs": []
    },
    {
      "cell_type": "markdown",
      "source": [
        "#### Missing Values/Null Values"
      ],
      "metadata": {
        "id": "PoPl-ycgm1ru"
      }
    },
    {
      "cell_type": "code",
      "source": [
        "# Missing Values/Null Values Count\n",
        "print(df.isnull().sum())\n",
        "print(df.isnull().sum().sum())"
      ],
      "metadata": {
        "id": "GgHWkxvamxVg"
      },
      "execution_count": null,
      "outputs": []
    },
    {
      "cell_type": "code",
      "source": [
        "#Caliculating the percentage of missing value\n",
        "missing_percentage = (df.isnull().sum() / len(df)) * 100\n",
        "\n",
        "# Print the percentage of missing values for each column\n",
        "print(\"Percentage of missing values for each column:\")\n",
        "print(missing_percentage)"
      ],
      "metadata": {
        "id": "Q4fXtISR87g4"
      },
      "execution_count": null,
      "outputs": []
    },
    {
      "cell_type": "code",
      "source": [
        "# Visualizing the missing values\n",
        "sns.heatmap(df.isnull(), cbar=False)"
      ],
      "metadata": {
        "id": "3q5wnI3om9sJ"
      },
      "execution_count": null,
      "outputs": []
    },
    {
      "cell_type": "code",
      "source": [],
      "metadata": {
        "id": "xXodBsohFdd8"
      },
      "execution_count": null,
      "outputs": []
    },
    {
      "cell_type": "markdown",
      "source": [
        "### What did you know about your dataset?"
      ],
      "metadata": {
        "id": "H0kj-8xxnORC"
      }
    },
    {
      "cell_type": "markdown",
      "source": [
        "Answer Here\n",
        "\n",
        "* There are 131895 rows and 17 features in the data\n",
        "* Almost every column contains null data\n",
        "* There are 70711 duplicates values in the data\n",
        "\n"
      ],
      "metadata": {
        "id": "gfoNAAC-nUe_"
      }
    },
    {
      "cell_type": "markdown",
      "source": [
        "## ***2. Understanding Your Variables***"
      ],
      "metadata": {
        "id": "nA9Y7ga8ng1Z"
      }
    },
    {
      "cell_type": "code",
      "source": [
        "# Dataset Columns\n",
        "df.columns"
      ],
      "metadata": {
        "id": "j7xfkqrt5Ag5"
      },
      "execution_count": null,
      "outputs": []
    },
    {
      "cell_type": "code",
      "source": [],
      "metadata": {
        "id": "detbmgvQWCsQ"
      },
      "execution_count": null,
      "outputs": []
    },
    {
      "cell_type": "code",
      "source": [
        "# Dataset Describe\n",
        "df.describe()"
      ],
      "metadata": {
        "id": "DnOaZdaE5Q5t"
      },
      "execution_count": null,
      "outputs": []
    },
    {
      "cell_type": "markdown",
      "source": [
        "### Variables Description"
      ],
      "metadata": {
        "id": "PBTbrJXOngz2"
      }
    },
    {
      "cell_type": "markdown",
      "source": [
        "**Feature descriptions briefly as follows:**\n",
        "\n",
        "\n",
        "* **airline:** Name of the airline\n",
        "\n",
        "* **overall :** Overall point is given to the trip between 1 to 10.\n",
        "\n",
        "*  **author :** Author of the trip\n",
        "\n",
        "* **review_date :** Date of the Review\n",
        "\n",
        "* **customer_review :** Review of the customers in free text format\n",
        "\n",
        "* **aircraft :** Type of the aircraft\n",
        "\n",
        "* **traveller_type :** Type of traveller(e.g. business,lesisure)\n",
        "\n",
        "* **cabin :** Cabin at the flight date flowan: Flight date\n",
        "\n",
        "* **seat_comfort :** Rated between 1-5\n",
        "\n",
        "* **cabin_service :** Rated between 1-5\n",
        "\n",
        "* **food_bev :** Rated between 1-5\n",
        "\n",
        "* **entertainment :** Rated between 1-5\n",
        "\n",
        "* **ground_service :** Rated between 1-5\n",
        "\n",
        "* **value_for_money :** Rated between 1-5\n",
        "\n",
        "* **recommended :** Binary, target variable\n",
        "  \n",
        "\n",
        "\n",
        "\n",
        "\n",
        "\n"
      ],
      "metadata": {
        "id": "aJV4KIxSnxay"
      }
    },
    {
      "cell_type": "markdown",
      "source": [
        "### Check Unique Values for each variable."
      ],
      "metadata": {
        "id": "u3PMJOP6ngxN"
      }
    },
    {
      "cell_type": "code",
      "source": [
        "for i in df.columns.tolist():\n",
        "  print(f'Number of unique value in {i} is {df[i].nunique()}.')"
      ],
      "metadata": {
        "id": "08nBLd3CWhdX"
      },
      "execution_count": null,
      "outputs": []
    },
    {
      "cell_type": "code",
      "source": [
        "# Check Unique Values for each variable.\n",
        "for column in df.columns:\n",
        "    unique_values = df[column].unique()\n",
        "    print(f\"Unique values in column '{column}': {unique_values}\")"
      ],
      "metadata": {
        "id": "zms12Yq5n-jE"
      },
      "execution_count": null,
      "outputs": []
    },
    {
      "cell_type": "markdown",
      "source": [
        "## 3. ***Data Wrangling***"
      ],
      "metadata": {
        "id": "dauF4eBmngu3"
      }
    },
    {
      "cell_type": "markdown",
      "source": [
        "### Data Wrangling Code"
      ],
      "metadata": {
        "id": "bKJF3rekwFvQ"
      }
    },
    {
      "cell_type": "code",
      "source": [
        "# Write your code to make your dataset analysis ready."
      ],
      "metadata": {
        "id": "wk-9a2fpoLcV"
      },
      "execution_count": null,
      "outputs": []
    },
    {
      "cell_type": "markdown",
      "source": [
        "### What all manipulations have you done and insights you found?"
      ],
      "metadata": {
        "id": "MSa1f5Uengrz"
      }
    },
    {
      "cell_type": "markdown",
      "source": [
        "Answer Here."
      ],
      "metadata": {
        "id": "LbyXE7I1olp8"
      }
    },
    {
      "cell_type": "code",
      "source": [
        "df.head()"
      ],
      "metadata": {
        "id": "piKLEAvGt_mR"
      },
      "execution_count": null,
      "outputs": []
    },
    {
      "cell_type": "markdown",
      "source": [
        "## ***4. Data Vizualization, Storytelling & Experimenting with charts : Understand the relationships between variables***"
      ],
      "metadata": {
        "id": "GF8Ens_Soomf"
      }
    },
    {
      "cell_type": "code",
      "source": [
        "df.isnull().sum()"
      ],
      "metadata": {
        "id": "GApkfCqH6LQU"
      },
      "execution_count": null,
      "outputs": []
    },
    {
      "cell_type": "markdown",
      "source": [
        "#### Chart - 1"
      ],
      "metadata": {
        "id": "0wOQAZs5pc--"
      }
    },
    {
      "cell_type": "code",
      "source": [
        "# Chart - 1 visualization code\n",
        "plt.figure(figsize=(8,6))\n",
        "sns.countplot(df['traveller_type'])\n",
        "\n",
        "\n",
        "\n"
      ],
      "metadata": {
        "id": "7v_ESjsspbW7"
      },
      "execution_count": null,
      "outputs": []
    },
    {
      "cell_type": "markdown",
      "source": [
        "##### 1. Why did you pick the specific chart?"
      ],
      "metadata": {
        "id": "K5QZ13OEpz2H"
      }
    },
    {
      "cell_type": "markdown",
      "source": [
        "The chart I pick is bar chart. Bar chart is an excellent choice when representing Numerical variables.Bar charts are excellent for comparing the sizes of different categories or groups. Each bar represents a category, and the length of the bar corresponds to the value or frequency of that category."
      ],
      "metadata": {
        "id": "XESiWehPqBRc"
      }
    },
    {
      "cell_type": "markdown",
      "source": [
        "##### 2. What is/are the insight(s) found from the chart?\n",
        "The Insight I got from this chart is that the among the diffrerent leisure solo leisure corresponds to maximun count.This help the business to focus on which leisure category to focus on and who there costumers are where they can increase opportunities."
      ],
      "metadata": {
        "id": "lQ7QKXXCp7Bj"
      }
    },
    {
      "cell_type": "markdown",
      "source": [
        "he Insight I got from this chart is that the among the diffrerent leisure solo leisure corresponds to maximun count.This help the business to focus on which leisure category to focus on and who there costumers are where they can increase opportunities.Answer Here"
      ],
      "metadata": {
        "id": "C_j1G7yiqdRP"
      }
    },
    {
      "cell_type": "markdown",
      "source": [
        "##### 3. Will the gained insights help creating a positive business impact?\n",
        "Are there any insights that lead to negative growth? Justify with specific reason."
      ],
      "metadata": {
        "id": "448CDAPjqfQr"
      }
    },
    {
      "cell_type": "markdown",
      "source": [
        "The gain insight show positive business impact."
      ],
      "metadata": {
        "id": "3cspy4FjqxJW"
      }
    },
    {
      "cell_type": "markdown",
      "source": [
        "#### Chart - 2"
      ],
      "metadata": {
        "id": "KSlN3yHqYklG"
      }
    },
    {
      "cell_type": "code",
      "source": [
        "# Chart - 2 visualization code\n",
        "import sweetviz as sv\n",
        "df['aircraft'] = df['aircraft'].astype(str)\n",
        "df['date_flown'] = pd.to_datetime(df['date_flown'], format='%B %Y').dt.strftime('%Y-%m-%d')\n",
        "\n",
        "report=sv.analyze(df)\n",
        "# Collecting report\n",
        "report.show_notebook()"
      ],
      "metadata": {
        "id": "R4YgtaqtYklH"
      },
      "execution_count": null,
      "outputs": []
    },
    {
      "cell_type": "markdown",
      "source": [
        "##### 1. Why did you pick the specific chart?"
      ],
      "metadata": {
        "id": "t6dVpIINYklI"
      }
    },
    {
      "cell_type": "markdown",
      "source": [
        "I pick the specific chart or libarary because Sweetviz is used for exploratory data analysis (EDA), providing comprehensive visualizations and statistical summaries of datasets. It aids in understanding data structure, detecting patterns, and facilitating comparative analysis, making it a valuable tool for data scientists and analysts."
      ],
      "metadata": {
        "id": "5aaW0BYyYklI"
      }
    },
    {
      "cell_type": "markdown",
      "source": [
        "##### 2. What is/are the insight(s) found from the chart?"
      ],
      "metadata": {
        "id": "ijmpgYnKYklI"
      }
    },
    {
      "cell_type": "markdown",
      "source": [
        "The are alot of insight I get from the above visualization. Like how many missing values are present in the data, how many distinct values are in columns and much more. It provides basically the summary of whole data and how we can look forward and do manipulations and other task."
      ],
      "metadata": {
        "id": "PSx9atu2YklI"
      }
    },
    {
      "cell_type": "markdown",
      "source": [
        "##### 3. Will the gained insights help creating a positive business impact?\n"
      ],
      "metadata": {
        "id": "-JiQyfWJYklI"
      }
    },
    {
      "cell_type": "markdown",
      "source": [
        "Answer Here: The gain insight help creating a positive impact on business via learning the data patterns and how we can make data more symettrical to get insight from predictive algorithm"
      ],
      "metadata": {
        "id": "BcBbebzrYklV"
      }
    },
    {
      "cell_type": "markdown",
      "source": [
        "#### Chart - 3"
      ],
      "metadata": {
        "id": "EM7whBJCYoAo"
      }
    },
    {
      "cell_type": "code",
      "source": [
        "# Chart - 3 visualization code\n",
        "value_counts = df['cabin'].value_counts()\n",
        "colors = ['skyblue','limegreen','orange','purple']\n",
        "\n",
        "# Plotting the counts as a bar plot\n",
        "plt.figure(figsize=(8,6))  # Adjust the figure size to 8x6 inches\n",
        "bars = value_counts.plot(kind='bar',color = colors)  # Plotting the bar plot\n",
        "plt.title('Cabin distribution')  # Adding a title to the plot\n",
        "plt.xlabel('cabin')  # Adding a label for the x-axis\n",
        "plt.ylabel('Count')  # Adding a label for the y-axis\n",
        "plt.xticks(rotation=45)  # Rotating x-axis labels by 45 degrees for better readability\n",
        "plt.grid(axis='y', linestyle='--', alpha=0.7)  # Adding horizontal gridlines with dashed lines and transparency\n",
        "for bar in bars.patches:\n",
        "    plt.annotate(format(bar.get_height(), '.0f'),\n",
        "                 (bar.get_x() + bar.get_width() / 2,\n",
        "                  bar.get_height()),\n",
        "                 ha='center', va='bottom',\n",
        "                 xytext=(0, 5),\n",
        "                 textcoords='offset points')\n",
        "\n",
        "plt.show()  # Displaying the plot\n"
      ],
      "metadata": {
        "id": "t6GMdE67YoAp"
      },
      "execution_count": null,
      "outputs": []
    },
    {
      "cell_type": "markdown",
      "source": [
        "##### 1. Why did you pick the specific chart?"
      ],
      "metadata": {
        "id": "fge-S5ZAYoAp"
      }
    },
    {
      "cell_type": "markdown",
      "source": [
        "The chart I pick is bar chart. Bar chart is an excellent choice when representing Numerical variables.Bar charts are excellent for comparing the sizes of different categories or groups. Each bar represents a category, and the length of the bar corresponds to the value or frequency of that category.In the above chart"
      ],
      "metadata": {
        "id": "5dBItgRVYoAp"
      }
    },
    {
      "cell_type": "markdown",
      "source": [
        "##### 2. What is/are the insight(s) found from the chart?"
      ],
      "metadata": {
        "id": "85gYPyotYoAp"
      }
    },
    {
      "cell_type": "markdown",
      "source": [
        "Answer Here: The insight we gain from this visuaization is as follows:\n",
        "Maximun number of passengers travel by Economics class.\n",
        "A very few travell by First Class\n",
        "\n",
        "* Economic class: 45171\n",
        "* Buisness Class: 9590\n",
        "* Premium Economy: 2412\n",
        "* First Class: 1532"
      ],
      "metadata": {
        "id": "4jstXR6OYoAp"
      }
    },
    {
      "cell_type": "markdown",
      "source": [
        "##### 3. Will the gained insights help creating a positive business impact?\n",
        "Are there any insights that lead to negative growth? Justify with specific reason."
      ],
      "metadata": {
        "id": "RoGjAbkUYoAp"
      }
    },
    {
      "cell_type": "markdown",
      "source": [
        "Answer:The data on the different classes of airline passengers provides valuable insights that can influence business strategies and impact."
      ],
      "metadata": {
        "id": "zfJ8IqMcYoAp"
      }
    },
    {
      "cell_type": "markdown",
      "source": [
        "#### Chart - 4"
      ],
      "metadata": {
        "id": "4Of9eVA-YrdM"
      }
    },
    {
      "cell_type": "code",
      "source": [
        "# Chart - 4 visualization code\n",
        "plt.figure(figsize=(6, 6))\n",
        "colors = ['red', 'green', 'purple', 'orange']\n",
        "sns.barplot(x=df['traveller_type'], y=df['value_for_money'], palette=colors)\n",
        "plt.xlabel('Traveller Type', fontsize=12)\n",
        "plt.ylabel('Value for Money', fontsize=12)\n",
        "plt.title('Bar Plot with Custom Colors', fontsize=15)\n",
        "plt.show()\n"
      ],
      "metadata": {
        "id": "irlUoxc8YrdO"
      },
      "execution_count": null,
      "outputs": []
    },
    {
      "cell_type": "markdown",
      "source": [
        "##### 1. Why did you pick the specific chart?"
      ],
      "metadata": {
        "id": "iky9q4vBYrdO"
      }
    },
    {
      "cell_type": "markdown",
      "source": [
        "Answer: The visualization I choose here is a bar chart because it effectively compares different categories and makes it easy to understand the differences in quantities at a glance. Bar charts are particularly useful for Clear Comparison and Visual Clarity."
      ],
      "metadata": {
        "id": "aJRCwT6DYrdO"
      }
    },
    {
      "cell_type": "markdown",
      "source": [
        "##### 2. What is/are the insight(s) found from the chart?"
      ],
      "metadata": {
        "id": "F6T5p64dYrdO"
      }
    },
    {
      "cell_type": "markdown",
      "source": [
        "Answer:The insight we got from this visualization that how different traveller type varies with value for money. This bar graph clearly shows that the when we compare the tarveller type with value for money rating. Solo leisure is performing well while other categores like Couple Leisure,Business and Family leisure are almost equal in rating.\n"
      ],
      "metadata": {
        "id": "Xx8WAJvtYrdO"
      }
    },
    {
      "cell_type": "markdown",
      "source": [
        "##### 3. Will the gained insights help creating a positive business impact?\n",
        "Are there any insights that lead to negative growth? Justify with specific reason."
      ],
      "metadata": {
        "id": "y-Ehk30pYrdP"
      }
    },
    {
      "cell_type": "markdown",
      "source": [
        "Answer:The insight we got from this visualization is that solo leisure travelers rate value for money higher, while Couple Leisure, Business, and Family Leisure segments have similar, lower ratings.\n",
        "\n",
        "* Positive Business Impact:\n",
        "Targeted Promotions: Focus on solo leisure travelers with value-for-money deals to maximize returns.\n",
        "* Negative Growth Insights:\n",
        "Stagnant Ratings: Address the stagnant value-for-money ratings in Couple Leisure, Business, and Family Leisure segments to avoid potential dissatisfaction."
      ],
      "metadata": {
        "id": "jLNxxz7MYrdP"
      }
    },
    {
      "cell_type": "markdown",
      "source": [
        "#### Chart - 5"
      ],
      "metadata": {
        "id": "bamQiAODYuh1"
      }
    },
    {
      "cell_type": "code",
      "source": [
        "# Chart - 5 visualization code\n",
        "avg_rating=df.groupby('cabin')[['food_bev','entertainment']].mean().reset_index()\n",
        "avg_rating\n",
        "\n",
        "\n",
        "plt.rcParams['figure.figsize']=(9,6)\n",
        "avg_rating.plot(x=\"cabin\", y=[\"food_bev\", \"entertainment\"], kind=\"bar\")"
      ],
      "metadata": {
        "id": "TIJwrbroYuh3"
      },
      "execution_count": null,
      "outputs": []
    },
    {
      "cell_type": "markdown",
      "source": [
        "##### 1. Why did you pick the specific chart?"
      ],
      "metadata": {
        "id": "QHF8YVU7Yuh3"
      }
    },
    {
      "cell_type": "markdown",
      "source": [
        "Answer Here:The visualization I choose here is a bar chart because it effectively compares different categories and makes it easy to understand the differences in quantities at a glance. Bar charts are particularly useful for:\n",
        "\n",
        "* Clear Comparison: They allow for straightforward comparison between different groups or categories.\n",
        "* Visual Clarity: They provide a clear and immediate visual representation of data, making it easy to identify trends and differences."
      ],
      "metadata": {
        "id": "dcxuIMRPYuh3"
      }
    },
    {
      "cell_type": "markdown",
      "source": [
        "##### 2. What is/are the insight(s) found from the chart?\n",
        "\n",
        "> Add blockquote\n",
        "\n"
      ],
      "metadata": {
        "id": "GwzvFGzlYuh3"
      }
    },
    {
      "cell_type": "markdown",
      "source": [
        "Answer: The insight we got from this visualization that the rating given by passengers to entertainment and food _beverage is maximum in case of business class ie 3.3 and 3.5 and in case of Economy class this rating is approximately 2.75. Similarly first class has give 3.3 and 3.2.\n",
        "But in premium Economy food_beverage is fiven 2.8 and entertainment is given 3"
      ],
      "metadata": {
        "id": "uyqkiB8YYuh3"
      }
    },
    {
      "cell_type": "markdown",
      "source": [
        "##### 3. Will the gained insights help creating a positive business impact?\n",
        "\n",
        "\n",
        "\n",
        "\n",
        "\n",
        "Are there any insights that lead to negative growth? Justify with specific reason."
      ],
      "metadata": {
        "id": "qYpmQ266Yuh3"
      }
    },
    {
      "cell_type": "markdown",
      "source": [
        "Answer:The insight we got from this visualization is that the rating given by passengers to entertainment and food & beverage is highest in Business Class (3.3 and 3.5) and lower in Economy Class (approximately 2.75). First Class has 3.3 and 3.2, while Premium Economy has 2.8 and 3.\n",
        "\n",
        "Positive Business Impact:\n",
        "Focus on Economy: Enhance food and entertainment in Economy Class to improve satisfaction.\n",
        "Negative Growth Insights:\n",
        "Premium Economy Issues: Address lower ratings to prevent dissatisfaction and loss in Premium Economy."
      ],
      "metadata": {
        "id": "_WtzZ_hCYuh4"
      }
    },
    {
      "cell_type": "markdown",
      "source": [
        "#### Chart - 6"
      ],
      "metadata": {
        "id": "OH-pJp9IphqM"
      }
    },
    {
      "cell_type": "code",
      "source": [
        "# Chart - 6 visualization code\n",
        "df.dropna(subset=['recommended'])\n",
        "plt.figure(figsize=(3,3))\n",
        "sns.countplot(x=df['cabin'],hue=df['recommended'])\n",
        "plt.xticks(rotation=90)\n",
        "plt.show()\n",
        "\n",
        "print(\" \")\n",
        "\n",
        "\n",
        "label_for_cabin = ['Economy Class','Business Class','Premium Economy','First Class']\n",
        "data2 = df['cabin'].value_counts().values\n",
        "plt.figure(figsize=(4,4))\n",
        "plt.axis(\"equal\")\n",
        "plt.pie(data2, labels = label_for_cabin,radius=1.5,autopct='%0.2f%%',shadow=True,textprops={'fontsize': 14})\n",
        "plt.legend(loc='upper right',shadow=True,fancybox=True)\n",
        "plt.show()\n"
      ],
      "metadata": {
        "id": "kuRf4wtuphqN"
      },
      "execution_count": null,
      "outputs": []
    },
    {
      "cell_type": "markdown",
      "source": [
        "##### 1. Why did you pick the specific chart?"
      ],
      "metadata": {
        "id": "bbFf2-_FphqN"
      }
    },
    {
      "cell_type": "markdown",
      "source": [
        "The visualization we used here are:\n",
        "\n",
        "* Bar Chart: This is used to compare the ratings for entertainment and food & beverage across different classes, providing a clear visual representation of differences in passenger satisfaction.\n",
        "* Pie Chart: This is used to show the distribution of overall satisfaction among different passenger types, allowing us to see the proportion of each type within the overall data.\n",
        "\n",
        "\n",
        "\n",
        "\n",
        "\n",
        "\n"
      ],
      "metadata": {
        "id": "loh7H2nzphqN"
      }
    },
    {
      "cell_type": "markdown",
      "source": [
        "##### 2. What is/are the insight(s) found from the chart?"
      ],
      "metadata": {
        "id": "_ouA3fa0phqN"
      }
    },
    {
      "cell_type": "markdown",
      "source": [
        "Answer: The insight found from this visualization:\n",
        "* Bar Chart: The bars shows that Economy class has more people who said no to recomdetaion ie (25000) than who said yes(20000) . Similarly for business class yes has count around 7000 and No has 2500.\n",
        "Premium Economy have both count equal and very low near 1000 and for business recomnded is more that not recomended. but count is low ie 1000\n",
        "\n",
        "* Pie Chart:We clearly see that the distriution of Economy class is highest ie 76.95% and First class has minimum ie 2.61 %.\n",
        "Business class has 16.34 %  and Premium Economy has 4.11%\n"
      ],
      "metadata": {
        "id": "VECbqPI7phqN"
      }
    },
    {
      "cell_type": "markdown",
      "source": [
        "##### 3. Will the gained insights help creating a positive business impact?**bold text**\n",
        "Are there any insights that lead to negative growth? Justify with specific reason."
      ],
      "metadata": {
        "id": "Seke61FWphqN"
      }
    },
    {
      "cell_type": "markdown",
      "source": [
        "Answer:\n",
        "* Yes, focusing on improving the recommendation rates for Economy Class can help enhance customer satisfaction and potentially increase positive word-of-mouth.\n",
        "\n",
        "* Yes, the high proportion of \"No\" recommendations in Economy Class and the low counts in Premium Economy and First Class suggest dissatisfaction or unmet expectations, which could lead to a loss of customers and negative reviews.\n",
        "\n",
        "\n",
        "\n",
        "\n",
        "\n",
        "\n"
      ],
      "metadata": {
        "id": "DW4_bGpfphqN"
      }
    },
    {
      "cell_type": "markdown",
      "source": [
        "#### Chart - 7"
      ],
      "metadata": {
        "id": "PIIx-8_IphqN"
      }
    },
    {
      "cell_type": "code",
      "source": [
        "# Chart - 7 visualization code\n",
        "df.dropna(subset=['recommended'])\n",
        "plt.figure(figsize=(4,4))\n",
        "sns.countplot(x= df['entertainment'],hue= df['recommended'])\n",
        "plt.xlabel('entertainment')\n",
        "plt.ylabel('count')\n",
        "plt.xticks(rotation=90)\n",
        "plt.show()\n",
        "\n",
        "print(\" \")\n",
        "\n",
        "label_for_ent_service = ['1.0','4.0','5.0','3.0','2.0']\n",
        "data5 = df['entertainment'].value_counts().values\n",
        "plt.figure(figsize=(4,4))\n",
        "plt.axis(\"equal\")\n",
        "plt.title('Entertainment rating',bbox={'facecolor':'0.8', 'pad':5})\n",
        "plt.pie(data5, labels = label_for_ent_service,radius=1.6,autopct='%0.2f%%',shadow=True,textprops={'fontsize': 14})\n",
        "plt.legend(loc='center',shadow=True,fancybox=True)\n",
        "plt.show()\n",
        "\n",
        "\n"
      ],
      "metadata": {
        "id": "lqAIGUfyphqO"
      },
      "execution_count": null,
      "outputs": []
    },
    {
      "cell_type": "markdown",
      "source": [
        "##### 1. Why did you pick the specific chart?"
      ],
      "metadata": {
        "id": "t27r6nlMphqO"
      }
    },
    {
      "cell_type": "markdown",
      "source": [
        "Answer Here:\n",
        "* Bar Chart: This is used to compare the ratings for entertainment and food & beverage across different classes, providing a clear visual representation of differences in passenger satisfaction.\n",
        "* Pie Chart: This is used to show the distribution of overall satisfaction among different passenger types, allowing us to see the proportion of each type within the overall data.\n",
        "\n",
        ""
      ],
      "metadata": {
        "id": "iv6ro40sphqO"
      }
    },
    {
      "cell_type": "markdown",
      "source": [
        "##### 2. What is/are the insight(s) found from the chart?"
      ],
      "metadata": {
        "id": "r2jJGEOYphqO"
      }
    },
    {
      "cell_type": "markdown",
      "source": [
        "Answer: The insight we got from this visualization are given below:\n",
        "\n",
        "Bar garph: The length of bar clearly shows that the people have given entertainment rating low ie 1 have maximum number of them have said no to recomendation and also there is reverse of this the people who have given maximum rating ie 5 to the entertainment are the people who have recomended more and said yes to recomendation.\n",
        "Rating 3 has both equal and as rating increased the recomendation also increases  \n",
        "\n",
        "Pie chart: The Pie chart clearly demonstrates the proportion of the people who have given different ratings.\n",
        "\n",
        "* Rating 1 has 29.65%\n",
        "* Rating 2 has 11.46%\n",
        "* Rating 3 has 18.31%\n",
        "* Rating 4 has 21.59%\n",
        "* Rating 5 has 18.98%\n",
        "\n"
      ],
      "metadata": {
        "id": "Po6ZPi4hphqO"
      }
    },
    {
      "cell_type": "markdown",
      "source": [
        "##### 3. Will the gained insights help creating a positive business impact?\n",
        "Are there any insights that lead to negative growth? Justify with specific reason."
      ],
      "metadata": {
        "id": "b0JNsNcRphqO"
      }
    },
    {
      "cell_type": "markdown",
      "source": [
        "Answer: Yes, the insights can help create a positive business impact by focusing on improving entertainment quality, as higher ratings (4 and 5) correlate with more recommendations. Enhancing areas that receive lower ratings can increase overall customer satisfaction and positive recommendations."
      ],
      "metadata": {
        "id": "xvSq8iUTphqO"
      }
    },
    {
      "cell_type": "markdown",
      "source": [
        "#### Chart - 8"
      ],
      "metadata": {
        "id": "BZR9WyysphqO"
      }
    },
    {
      "cell_type": "code",
      "source": [
        "# Chart - 8 visualization code\n",
        "#Setting the style for the plot\n",
        "sns.set_style(\"whitegrid\")\n",
        "\n",
        "# Creating the box plot\n",
        "plt.figure(figsize=(6,8))\n",
        "sns.boxplot(x='traveller_type', y='overall', data=df)\n",
        "\n",
        "# Adding labels and title\n",
        "plt.title('Distribution of Overall Rating by Traveller Type')\n",
        "plt.xlabel('Traveller Type')\n",
        "plt.ylabel('Overall Rating')\n",
        "\n",
        "# Displaying the plot\n",
        "plt.xticks(rotation=45)  # Rotating x-axis labels for better readability\n",
        "plt.tight_layout()\n",
        "plt.show()"
      ],
      "metadata": {
        "id": "TdPTWpAVphqO"
      },
      "execution_count": null,
      "outputs": []
    },
    {
      "cell_type": "markdown",
      "source": [],
      "metadata": {
        "id": "HHAcc07fg14M"
      }
    },
    {
      "cell_type": "markdown",
      "source": [
        "##### 1. Why did you pick the specific chart?"
      ],
      "metadata": {
        "id": "jj7wYXLtphqO"
      }
    },
    {
      "cell_type": "markdown",
      "source": [
        "Answer Here: The visualization we choose here is a Boxplot\n",
        "Boxplot: A box plot provides a visual summary of the distribution of data by showing the median, quartiles, and potential outliers. It highlights the range and spread of the data, allowing for easy identification of variations and skewness within the dataset."
      ],
      "metadata": {
        "id": "Ob8u6rCTphqO"
      }
    },
    {
      "cell_type": "markdown",
      "source": [
        "##### 2. What is/are the insight(s) found from the chart?"
      ],
      "metadata": {
        "id": "eZrbJ2SmphqO"
      }
    },
    {
      "cell_type": "markdown",
      "source": [
        "\n",
        "Answer: The visualization clearly shows how the distribution of different traveller type varies with Overall Rating.\n",
        " this chart, you can observe the following:\n",
        "\n",
        "* The Median rating of Solo leisure is maximum ie 5\n",
        "* The median rating of all the other categories ie Business, Family leisure and Couple leisure is low ie 3  "
      ],
      "metadata": {
        "id": "mZtgC_hjphqO"
      }
    },
    {
      "cell_type": "markdown",
      "source": [
        "##### 3. Will the gained insights help creating a positive business impact?\n",
        "Are there any insights that lead to negative growth? Justify with specific reason."
      ],
      "metadata": {
        "id": "rFu4xreNphqO"
      }
    },
    {
      "cell_type": "markdown",
      "source": [
        "Answer:The insight from this visualization is that Solo Leisure has a high median rating of 5, indicating strong satisfaction, while Business, Family Leisure, and Couple Leisure categories have a lower median rating of 3, suggesting lower satisfaction. Focusing on improving the experience for Business, Family Leisure, and Couple Leisure categories could enhance overall satisfaction and drive positive business impact. However, the lower ratings in these categories may lead to negative growth if not addressed, due to potential customer dissatisfaction and reduced recommendations."
      ],
      "metadata": {
        "id": "ey_0qi68phqO"
      }
    },
    {
      "cell_type": "markdown",
      "source": [
        "#### Chart - 9"
      ],
      "metadata": {
        "id": "YJ55k-q6phqO"
      }
    },
    {
      "cell_type": "code",
      "source": [
        "plt.figure(figsize=(10, 5))\n",
        "sns.boxplot(x='cabin', y='cabin_service', hue='recommended', data=df, palette=['orange', 'purple'])\n",
        "plt.title('Box Plot of Cabin Service Ratings by Cabin Type and Recommendation')\n",
        "plt.xlabel('Cabin Type')\n",
        "plt.ylabel('Cabin Service Rating')\n",
        "plt.legend(title='Recommended')\n",
        "plt.show()"
      ],
      "metadata": {
        "id": "B2aS4O1ophqO"
      },
      "execution_count": null,
      "outputs": []
    },
    {
      "cell_type": "markdown",
      "source": [
        "##### 1. Why did you pick the specific chart?"
      ],
      "metadata": {
        "id": "gCFgpxoyphqP"
      }
    },
    {
      "cell_type": "markdown",
      "source": [
        "Answer:A box plot was chosen because it effectively displays the distribution of cabin ratings within each class, highlighting medians, quartiles, and outliers. This allows for clear comparison of satisfaction levels across different cabin classes and identifies variations and trends in the ratings."
      ],
      "metadata": {
        "id": "TVxDimi2phqP"
      }
    },
    {
      "cell_type": "markdown",
      "source": [
        "##### 2. What is/are the insight(s) found from the chart?"
      ],
      "metadata": {
        "id": "OVtJsKN_phqQ"
      }
    },
    {
      "cell_type": "markdown",
      "source": [
        "Answer: Insights you might find:\n",
        "\n",
        "Higher cabin service ratings generally lead to more recommendations: If the boxes for recommended flights consistently have higher medians and overall distributions compared to not recommended flights, it indicates that better cabin service is associated with higher recommendation rates.\n",
        "\n",
        "Differences in cabin service ratings across cabin types: Observe if certain cabin types (e.g., Business) tend to have higher ratings than others (e.g., Economy). This can highlight areas where service levels might be inconsistent.\n",
        "\n",
        "Impact of recommendation on cabin  perception within each cabin type: Compare the distribution of ratings for recommended and not recommended flights within the same cabin type. Are there noticeable differences in the medians or spread?\n",
        "\n",
        "Outliers: Look for any outliers in the data. These could represent exceptional service experiences (positive outliers) or particularly negative ones (negative outliers)."
      ],
      "metadata": {
        "id": "ngGi97qjphqQ"
      }
    },
    {
      "cell_type": "markdown",
      "source": [
        "##### 3. Will the gained insights help creating a positive business impact?\n",
        "Are there any insights that lead to negative growth? Justify with specific reason."
      ],
      "metadata": {
        "id": "lssrdh5qphqQ"
      }
    },
    {
      "cell_type": "markdown",
      "source": [
        "Answer:\n",
        "Business impact:\n",
        "Identify areas for service improvement: If specific cabin types or recommendation categories show lower ratings, airlines can investigate the reasons and take corrective action.\n",
        "\n",
        "Tailor service delivery: Understand which aspects of cabin service are most important for different cabin types and focus on delivering excellent service in those areas.\n",
        "\n",
        "Marketing and pricing strategies: Use insights to justify premium pricing for higher cabin classes or to emphasize service quality in marketing campaigns."
      ],
      "metadata": {
        "id": "tBpY5ekJphqQ"
      }
    },
    {
      "cell_type": "markdown",
      "source": [
        "#### Chart - 10"
      ],
      "metadata": {
        "id": "U2RJ9gkRphqQ"
      }
    },
    {
      "cell_type": "code",
      "source": [
        "# Convert 'review_date' column to datetime\n",
        "df['review_date'] = pd.to_datetime(df['review_date'],format='mixed', dayfirst=True )\n",
        "\n",
        "# Grouping the data by 'review_date' and counting the number of reviews for each date\n",
        "reviews_over_time = df.groupby('review_date').size()\n",
        "\n",
        "# Creating the line chart\n",
        "plt.figure(figsize=(10, 6))\n",
        "reviews_over_time.plot(kind='line', color='blue', marker='o', linestyle='-')\n",
        "\n",
        "# Adding labels and title\n",
        "plt.title('Number of Reviews Over Time')\n",
        "plt.xlabel('Review Date')\n",
        "plt.ylabel('Number of Reviews')\n",
        "\n",
        "# Displaying the plot\n",
        "plt.grid(True)  # Adding grid for better readability\n",
        "plt.tight_layout()\n",
        "plt.show()"
      ],
      "metadata": {
        "id": "GM7a4YP4phqQ"
      },
      "execution_count": null,
      "outputs": []
    },
    {
      "cell_type": "markdown",
      "source": [
        "##### 1. Why did you pick the specific chart?"
      ],
      "metadata": {
        "id": "1M8mcRywphqQ"
      }
    },
    {
      "cell_type": "markdown",
      "source": [
        "Answer Here."
      ],
      "metadata": {
        "id": "8agQvks0phqQ"
      }
    },
    {
      "cell_type": "markdown",
      "source": [
        "##### 2. What is/are the insight(s) found from the chart?"
      ],
      "metadata": {
        "id": "tgIPom80phqQ"
      }
    },
    {
      "cell_type": "markdown",
      "source": [
        "Answer Here"
      ],
      "metadata": {
        "id": "Qp13pnNzphqQ"
      }
    },
    {
      "cell_type": "markdown",
      "source": [
        "##### 3. Will the gained insights help creating a positive business impact?\n",
        "Are there any insights that lead to negative growth? Justify with specific reason."
      ],
      "metadata": {
        "id": "JMzcOPDDphqR"
      }
    },
    {
      "cell_type": "markdown",
      "source": [
        "Answer Here"
      ],
      "metadata": {
        "id": "R4Ka1PC2phqR"
      }
    },
    {
      "cell_type": "markdown",
      "source": [
        "#### Chart - 11"
      ],
      "metadata": {
        "id": "x-EpHcCOp1ci"
      }
    },
    {
      "cell_type": "code",
      "source": [
        "# Chart - 11 visualization code\n",
        "df.dropna(subset=['recommended'])\n",
        "plt.figure(figsize=(4,4))\n",
        "sns.countplot(x= df['value_for_money'],hue= df['recommended'])\n",
        "plt.xlabel('value_for_money')\n",
        "plt.ylabel('value_counts')\n",
        "plt.xticks(rotation=90)\n",
        "plt.show()\n",
        "\n",
        "print(\" \")\n",
        "\n",
        "label_for_money = ['1.0','5.0','4.0','2.0','3.0']\n",
        "data6 = df['value_for_money'].value_counts().values\n",
        "plt.figure(figsize=(4,4))\n",
        "plt.axis(\"equal\")\n",
        "plt.title('value_for_money',bbox={'facecolor':'0.8', 'pad':5})\n",
        "plt.pie(data6, labels = label_for_money,radius=1.6,autopct='%0.2f%%',shadow=True,textprops={'fontsize': 14})\n",
        "plt.legend(loc='center',shadow=True,fancybox=True)\n",
        "plt.show()"
      ],
      "metadata": {
        "id": "mAQTIvtqp1cj"
      },
      "execution_count": null,
      "outputs": []
    },
    {
      "cell_type": "markdown",
      "source": [
        "##### 1. Why did you pick the specific chart?"
      ],
      "metadata": {
        "id": "X_VqEhTip1ck"
      }
    },
    {
      "cell_type": "markdown",
      "source": [
        "Answer \" The Visualization I choose here is\n",
        "Bar Chart: I chose a bar chart for \"value_for_money\" because it provides a clear comparison of the counts of different value-for-money ratings and how they correlate with recommendations. This allows us to easily see which ratings are most common and how they align with customer recommendations.\n",
        "\n",
        "Pie Chart: I chose a pie chart because it effectively shows the proportion of each \"value_for_money\" rating within the whole dataset, providing a visual representation of the distribution of these ratings. This helps in understanding the relative frequency of each rating category in a straightforward and visually appealing manner."
      ],
      "metadata": {
        "id": "-vsMzt_np1ck"
      }
    },
    {
      "cell_type": "markdown",
      "source": [
        "##### 2. What is/are the insight(s) found from the chart?"
      ],
      "metadata": {
        "id": "8zGJKyg5p1ck"
      }
    },
    {
      "cell_type": "markdown",
      "source": [
        "Answer:\n",
        "Bar Chart Insight: The insight I got from this chart is that when the value for money rating is high (i.e., 5), the number of recommendations (yes) also increases, and as the rating decreases, recommendations (no) increase. This suggests a high correlation between value for money ratings and recommendations.\n",
        "\n",
        "Pie Chart: The pie chart shows the distribution of \"value for money\" ratings, with 1 rating at 30.96%, 2 at 12.90%, 3 at 11.66%, 4 at 20.29%, and 5 at 24.19%. This indicates that a significant portion of customers rated value for money poorly (1), but a substantial portion also rated it highly (5). The distribution highlights areas where improvements can be made to enhance perceived value for money among passengers.\n",
        "\n",
        "\n",
        "\n",
        "\n",
        "\n",
        "\n",
        "\n",
        "\n",
        "\n"
      ],
      "metadata": {
        "id": "ZYdMsrqVp1ck"
      }
    },
    {
      "cell_type": "markdown",
      "source": [
        "##### 3. Will the gained insights help creating a positive business impact?\n",
        "Are there any insights that lead to negative growth? Justify with specific reason."
      ],
      "metadata": {
        "id": "PVzmfK_Ep1ck"
      }
    },
    {
      "cell_type": "markdown",
      "source": [
        "Answer:\n",
        "Bar Chart: The insight I got from this chart is that when the value for money rating is high (i.e., 5), the number of recommendations (yes) also increases, and as the rating decreases, recommendations (no) increase. This suggests a high correlation between value for money ratings and recommendations.\n",
        "\n",
        "Will the gained insights help create a positive business impact?: Yes, the insights can help create a positive business impact by guiding improvements in perceived value for money. Addressing areas with low ratings could boost overall satisfaction and increase recommendations, leading to enhanced customer loyalty and positive feedback.\n",
        "\n",
        "Pie Chart: The pie chart shows the distribution of \"value for money\" ratings, with 1 rating at 30.96%, 2 at 12.90%, 3 at 11.66%, 4 at 20.29%, and 5 at 24.19%. This indicates that while a significant portion of customers rated value for money poorly (1), there is also a notable portion that rated it highly (5). The distribution underscores areas where targeted improvements can enhance perceived value for money among passengers.\n",
        "\n",
        "\n",
        "\n",
        "\n",
        "\n",
        "\n",
        "\n"
      ],
      "metadata": {
        "id": "druuKYZpp1ck"
      }
    },
    {
      "cell_type": "markdown",
      "source": [
        "#### Chart - 12"
      ],
      "metadata": {
        "id": "n3dbpmDWp1ck"
      }
    },
    {
      "cell_type": "code",
      "source": [
        "# Chart - 12 visualization code\n",
        "df.hist(bins=10, grid=False, figsize=(10,6), color='skyblue', edgecolor='black')\n"
      ],
      "metadata": {
        "id": "bwevp1tKp1ck"
      },
      "execution_count": null,
      "outputs": []
    },
    {
      "cell_type": "markdown",
      "source": [
        "##### 1. Why did you pick the specific chart?"
      ],
      "metadata": {
        "id": "ylSl6qgtp1ck"
      }
    },
    {
      "cell_type": "markdown",
      "source": [
        "Answer: I chose histograms because they effectively display the distribution of each variable, allowing us to understand how data points are spread across different ranges. This helps in identifying patterns, central tendencies, and any potential outliers in the dataset."
      ],
      "metadata": {
        "id": "m2xqNkiQp1ck"
      }
    },
    {
      "cell_type": "code",
      "source": [],
      "metadata": {
        "id": "DdrjpakxPr6q"
      },
      "execution_count": null,
      "outputs": []
    },
    {
      "cell_type": "markdown",
      "source": [
        "*Answer: italicized text"
      ],
      "metadata": {
        "id": "x-lUsV2mp1ck"
      }
    },
    {
      "cell_type": "markdown",
      "source": [
        "##### 3. Will the gained insights help creating a positive business impact?\n",
        "Are there any insights that lead to negative growth? Justify with specific reason."
      ],
      "metadata": {
        "id": "M7G43BXep1ck"
      }
    },
    {
      "cell_type": "markdown",
      "source": [
        "Answer: The Visualization here help us finding out the distribution of each numerical variable present in dataset"
      ],
      "metadata": {
        "id": "5wwDJXsLp1cl"
      }
    },
    {
      "cell_type": "markdown",
      "source": [
        "#### Chart - 13"
      ],
      "metadata": {
        "id": "Ag9LCva-p1cl"
      }
    },
    {
      "cell_type": "code",
      "source": [
        "# Chart - 13 visualization code\n",
        "trip_by_airlines = df['airline'].value_counts()\n",
        "trip_by_airlines\n",
        "\n",
        "plt.figure(figsize=(8,6))\n",
        "trip_by_airlines[:6].plot(kind='bar',color = 'blue')\n",
        "plt.xlabel('Airline Type',fontsize=12)\n",
        "plt.ylabel('Count',fontsize=12)\n",
        "plt.title('Top 5 Airline ',fontsize=15)\n",
        "plt.xticks(rotation='horizontal')\n",
        "plt.show()"
      ],
      "metadata": {
        "id": "EUfxeq9-p1cl"
      },
      "execution_count": null,
      "outputs": []
    },
    {
      "cell_type": "markdown",
      "source": [
        "##### 1. Why did you pick the specific chart?"
      ],
      "metadata": {
        "id": "E6MkPsBcp1cl"
      }
    },
    {
      "cell_type": "markdown",
      "source": [
        "*Answer:\n",
        "A bar chart is used to visually compare different categories or groups by displaying their values as bars. This allows for an intuitive and clear understanding of differences and trends across categories."
      ],
      "metadata": {
        "id": "V22bRsFWp1cl"
      }
    },
    {
      "cell_type": "markdown",
      "source": [
        "##### 2. What is/are the insight(s) found from the chart?"
      ],
      "metadata": {
        "id": "2cELzS2fp1cl"
      }
    },
    {
      "cell_type": "markdown",
      "source": [
        "Answer: The insights we got from this visualization is that what are teh top 5 airlines on term of number of counts.The spirit airlines has maximum count ie 2800 and on 10th rank China Southern Airlines."
      ],
      "metadata": {
        "id": "ozQPc2_Ip1cl"
      }
    },
    {
      "cell_type": "code",
      "source": [],
      "metadata": {
        "id": "NOAglMjXESFX"
      },
      "execution_count": null,
      "outputs": []
    },
    {
      "cell_type": "markdown",
      "source": [
        "##### 3. Will the gained insights help creating a positive business impact?\n",
        "Are there any insights that lead to negative growth? Justify with specific reason."
      ],
      "metadata": {
        "id": "3MPXvC8up1cl"
      }
    },
    {
      "cell_type": "markdown",
      "source": [
        "Answer: This insight is helpful because it identifies the most popular airlines based on passenger counts, allowing for targeted marketing, resource allocation, and strategic planning to enhance customer experience and capitalize on high-demand airlines.\n"
      ],
      "metadata": {
        "id": "GL8l1tdLp1cl"
      }
    },
    {
      "cell_type": "markdown",
      "source": [
        "#### Chart - 14 - Correlation Heatmap"
      ],
      "metadata": {
        "id": "NC_X3p0fY2L0"
      }
    },
    {
      "cell_type": "code",
      "source": [
        "# Correlation Heatmap visualization code\n",
        "numeric_df = df.select_dtypes(include=['float64', 'int64'])\n",
        "correlation_matrix = numeric_df.corr()\n",
        "\n",
        "# Creating the correlation plot using Seaborn\n",
        "plt.figure(figsize=(8, 6))\n",
        "sns.heatmap(correlation_matrix, annot=True, cmap='coolwarm', fmt=\".2f\")\n",
        "plt.title('Correlation Plot')\n",
        "plt.show()"
      ],
      "metadata": {
        "id": "xyC9zolEZNRQ"
      },
      "execution_count": null,
      "outputs": []
    },
    {
      "cell_type": "markdown",
      "source": [
        "##### 1. Why did you pick the specific chart?"
      ],
      "metadata": {
        "id": "UV0SzAkaZNRQ"
      }
    },
    {
      "cell_type": "markdown",
      "source": [
        "Answer Here:A correlation matrix was chosen because it allows for the visualization of relationships between multiple variables simultaneously. It shows how strongly variables are related to each other, with values ranging from -1 to 1, indicating the direction and strength of these relationships.\n"
      ],
      "metadata": {
        "id": "DVPuT8LYZNRQ"
      }
    },
    {
      "cell_type": "markdown",
      "source": [
        "##### 2. What is/are the insight(s) found from the chart?"
      ],
      "metadata": {
        "id": "YPEH6qLeZNRQ"
      }
    },
    {
      "cell_type": "markdown",
      "source": [
        "Answer Here:ook for Strong Correlations: Values close to 1 or -1 indicate strong positive or negative correlations, respectively. Values near 0 suggest weak correlations.\n",
        "\n",
        "Identify Patterns: Spot strong correlations between groups of variables to uncover underlying factors influencing multiple variables.\n",
        "\n",
        "Focus on Relevant Variables: Pay attention to correlations between key variables like overall rating, recommendation, seat comfort, cabin service, and value for money for insights into customer satisfaction.\n",
        "\n",
        "Consider Multicollinearity: Strong correlations between independent variables may indicate multicollinearity, which can impact model performance and may require feature selection or dimensionality reduction.\n",
        "\n",
        "\n",
        "\n",
        "\n",
        "\n",
        "\n",
        "\n",
        "\n"
      ],
      "metadata": {
        "id": "bfSqtnDqZNRR"
      }
    },
    {
      "cell_type": "markdown",
      "source": [
        "#### Chart - 15 - Pair Plot"
      ],
      "metadata": {
        "id": "q29F0dvdveiT"
      }
    },
    {
      "cell_type": "code",
      "source": [
        "# Pair Plot visualization code\n",
        "numerical_columns = ['overall','seat_comfort','cabin_service','food_bev','entertainment','ground_service','value_for_money','recommended']\n",
        "\n",
        "# Create Pair Plot\n",
        "sns.pairplot(df[numerical_columns], diag_kind='kde')\n",
        "plt.suptitle(\"Pair Plot of Numerical Variables\")\n",
        "plt.show()"
      ],
      "metadata": {
        "id": "o58-TEIhveiU"
      },
      "execution_count": null,
      "outputs": []
    },
    {
      "cell_type": "markdown",
      "source": [
        "##### 1. Why did you pick the specific chart?"
      ],
      "metadata": {
        "id": "EXh0U9oCveiU"
      }
    },
    {
      "cell_type": "markdown",
      "source": [
        "Answer: A pairplot was chosen because it allows for a comprehensive view of the relationships between multiple pairs of variables. It provides scatter plots for each pair, along with histograms or KDE plots for individual variables, making it easier to identify patterns, correlations, and potential outliers."
      ],
      "metadata": {
        "id": "eMmPjTByveiU"
      }
    },
    {
      "cell_type": "markdown",
      "source": [
        "##### 2. What is/are the insight(s) found from the chart?"
      ],
      "metadata": {
        "id": "22aHeOlLveiV"
      }
    },
    {
      "cell_type": "markdown",
      "source": [
        "*Answer:\n",
        "Identify Correlations: Look for trends in scatterplots. An upward trend indicates a positive correlation, a downward trend indicates a negative correlation, and random scatter suggests no correlation.\n",
        "\n",
        "Spot Outliers: Identify outliers as points that deviate significantly from the main cluster in scatterplots.\n",
        "\n",
        "Understand Distributions: Histograms on the diagonal show individual variable distributions. Check for skewness, multimodality, or other patterns.\n",
        "\n",
        "Identify Clusters: Look for groups of closely packed points in scatterplots, indicating potential segments or groups within the data.\n",
        "\n",
        "Variable Relationships: Observe relationships between variables:\n",
        "\n",
        "Positive Correlation: Higher seat_comfort may lead to better overall ratings.\n",
        "Negative Correlation: Low value_for_money might correlate with lower overall ratings.\n",
        "No Clear Correlation: Some variables may not show a clear relationship.\n",
        "\n",
        "\n",
        "\n",
        "\n",
        "\n"
      ],
      "metadata": {
        "id": "uPQ8RGwHveiV"
      }
    },
    {
      "cell_type": "markdown",
      "source": [
        "## ***5. Hypothesis Testing***"
      ],
      "metadata": {
        "id": "g-ATYxFrGrvw"
      }
    },
    {
      "cell_type": "markdown",
      "source": [
        "### Based on your chart experiments, define three hypothetical statements from the dataset. In the next three questions, perform hypothesis testing to obtain final conclusion about the statements through your code and statistical testing."
      ],
      "metadata": {
        "id": "Yfr_Vlr8HBkt"
      }
    },
    {
      "cell_type": "markdown",
      "source": [
        "Answer Here."
      ],
      "metadata": {
        "id": "-7MS06SUHkB-"
      }
    },
    {
      "cell_type": "markdown",
      "source": [
        "### Hypothetical Statement - 1"
      ],
      "metadata": {
        "id": "8yEUt7NnHlrM"
      }
    },
    {
      "cell_type": "markdown",
      "source": [],
      "metadata": {
        "id": "tEA2Xm5dHt1r"
      }
    },
    {
      "cell_type": "markdown",
      "source": [
        "**H0 (Null Hypothesis)**: There is no significant difference in overall ratings between different airlines.\n",
        "\n",
        "# New Section\n",
        "**H1 (Alternative Hypothesis)**: The overall ratings vary significantly between different airlines."
      ],
      "metadata": {
        "id": "HI9ZP0laH0D-"
      }
    },
    {
      "cell_type": "markdown",
      "source": [
        "#### 2. Perform an appropriate statistical test."
      ],
      "metadata": {
        "id": "I79__PHVH19G"
      }
    },
    {
      "cell_type": "code",
      "source": [
        "# Perform Statistical Test to obtain P-Value\n",
        "from scipy.stats import f_oneway\n",
        "import pandas as pd\n",
        "\n",
        "# Assuming your dataset is stored in a DataFrame called 'df'\n",
        "# 'airline' and 'overall' are columns in the DataFrame\n",
        "\n",
        "# Grouping the data by 'airline' and extracting overall ratings for each airline\n",
        "airlines = df['airline'].unique()\n",
        "overall_ratings_by_airline = [df[df['airline'] == airline]['overall'] for airline in airlines]\n",
        "\n",
        "# Performing one-way ANOVA test\n",
        "f_statistic, p_value = f_oneway(*overall_ratings_by_airline)\n",
        "\n",
        "# Setting the significance level\n",
        "alpha = 0.05\n",
        "\n",
        "# Print the result\n",
        "print(\"F-statistic:\", f_statistic)\n",
        "print(\"P-value:\", p_value)\n",
        "\n",
        "# Checking the result\n",
        "if p_value < alpha:\n",
        "    print(\"Reject null hypothesis: The overall ratings vary significantly between different airlines.\")\n",
        "else:\n",
        "    print(\"Fail to reject null hypothesis: There is no significant difference in overall ratings between different airlines.\")"
      ],
      "metadata": {
        "id": "oZrfquKtyian"
      },
      "execution_count": null,
      "outputs": []
    },
    {
      "cell_type": "markdown",
      "source": [
        "##### Which statistical test have you done to obtain P-Value?"
      ],
      "metadata": {
        "id": "Ou-I18pAyIpj"
      }
    },
    {
      "cell_type": "markdown",
      "source": [
        "Answer :\n",
        "Statistical Test: I performed a one-way ANOVA test to obtain the p-value."
      ],
      "metadata": {
        "id": "s2U0kk00ygSB"
      }
    },
    {
      "cell_type": "markdown",
      "source": [
        "##### Why did you choose the specific statistical test?"
      ],
      "metadata": {
        "id": "fF3858GYyt-u"
      }
    },
    {
      "cell_type": "markdown",
      "source": [
        "Answer: The one-way ANOVA test is used to determine if there are statistically significant differences in the mean overall ratings between different airlines. This test is appropriate because it compares the means of multiple groups (airlines) to see if at least one group mean is significantly different from the others, helping to assess if airline ratings differ significantly"
      ],
      "metadata": {
        "id": "HO4K0gP5y3B4"
      }
    },
    {
      "cell_type": "markdown",
      "source": [
        "### Hypothetical Statement - 2"
      ],
      "metadata": {
        "id": "4_0_7-oCpUZd"
      }
    },
    {
      "cell_type": "markdown",
      "source": [
        "#### 1. State Your research hypothesis as a null hypothesis and alternate hypothesis."
      ],
      "metadata": {
        "id": "hwyV_J3ipUZe"
      }
    },
    {
      "cell_type": "markdown",
      "source": [
        "\n",
        "###Null Hypothesis (H0): There is no significant correlation between the variables.\n",
        "###Alternative Hypothesis (H1): There is a significant correlation between at least some of the variables"
      ],
      "metadata": {
        "id": "FnpLGJ-4pUZe"
      }
    },
    {
      "cell_type": "markdown",
      "source": [
        "#### 2. Perform an appropriate statistical test."
      ],
      "metadata": {
        "id": "3yB-zSqbpUZe"
      }
    },
    {
      "cell_type": "code",
      "source": [
        "# Perform Statistical Test to obtain P-Value\n",
        "import seaborn as sns\n",
        "import matplotlib.pyplot as plt\n",
        "\n",
        "# 'seat_comfort', 'cabin_service', 'food_bev', and 'overall' are columns in the DataFrame\n",
        "\n",
        "# Selecting the relevant columns\n",
        "flight_experience = df[['seat_comfort', 'cabin_service', 'food_bev', 'overall']]\n",
        "\n",
        "# Calculating the correlation matrix\n",
        "correlation_matrix = flight_experience.corr()\n",
        "\n",
        "# Creating the heatmap\n",
        "plt.figure(figsize=(8, 8))\n",
        "sns.heatmap(correlation_matrix, annot=True, cmap='coolwarm', fmt=\".2f\")\n",
        "\n",
        "# Adding labels and title\n",
        "plt.title('Correlation Matrix of Flight Experience and Overall Rating')\n",
        "plt.xlabel('Flight Experience Aspects')\n",
        "plt.ylabel('Flight Experience Aspects')\n",
        "\n",
        "# Displaying the plot\n",
        "plt.tight_layout()\n",
        "plt.show()"
      ],
      "metadata": {
        "id": "sWxdNTXNpUZe"
      },
      "execution_count": null,
      "outputs": []
    },
    {
      "cell_type": "markdown",
      "source": [
        "##### Which statistical test have you done to obtain P-Value?"
      ],
      "metadata": {
        "id": "dEUvejAfpUZe"
      }
    },
    {
      "cell_type": "markdown",
      "source": [
        "Answer:Statistical Test Used: Although a correlation matrix itself is not a statistical test, it provides a measure of the strength and direction of relationships between variables. No p-value is directly associated with a correlation matrix, but it is useful for identifying significant correlations.\n",
        "\n"
      ],
      "metadata": {
        "id": "oLDrPz7HpUZf"
      }
    },
    {
      "cell_type": "markdown",
      "source": [
        "##### Why did you choose the specific statistical test?"
      ],
      "metadata": {
        "id": "Fd15vwWVpUZf"
      }
    },
    {
      "cell_type": "markdown",
      "source": [
        "*Answer:\n",
        "Why a Correlation Matrix was Chosen: The correlation matrix was chosen to visually explore the relationships between various aspects of flight experience (seat comfort, cabin service, food & beverage, and overall rating). By examining these correlations, we can identify how strongly related these variables are to each other and determine which factors might influence overall satisfaction."
      ],
      "metadata": {
        "id": "4xOGYyiBpUZf"
      }
    },
    {
      "cell_type": "markdown",
      "source": [
        "#### 1. State Your research hypothesis as a null hypothesis and alternate hypothesis."
      ],
      "metadata": {
        "id": "49K5P_iCpZyH"
      }
    },
    {
      "cell_type": "markdown",
      "source": [
        "\n"
      ],
      "metadata": {
        "id": "7gWI5rT9pZyH"
      }
    },
    {
      "cell_type": "markdown",
      "source": [
        "Answer Here: As clearly from co relation matrix that all the co relation values are greater than 0.69.There is a Significant Co-relation between variables .So we reejct the nullhypothesis"
      ],
      "metadata": {
        "id": "ytWJ8v15pZyI"
      }
    },
    {
      "cell_type": "markdown",
      "source": [
        "## ***6. Feature Engineering & Data Pre-processing***"
      ],
      "metadata": {
        "id": "yLjJCtPM0KBk"
      }
    },
    {
      "cell_type": "markdown",
      "source": [
        "### 1. Handling Missing Values"
      ],
      "metadata": {
        "id": "xiyOF9F70UgQ"
      }
    },
    {
      "cell_type": "code",
      "source": [
        "df.aircraft.nunique()"
      ],
      "metadata": {
        "id": "0oPYZxHOK6HG"
      },
      "execution_count": null,
      "outputs": []
    },
    {
      "cell_type": "code",
      "source": [],
      "metadata": {
        "id": "BQq6KpJ34y4g"
      },
      "execution_count": null,
      "outputs": []
    },
    {
      "cell_type": "code",
      "source": [
        "#dropping aircraft column because it has maximum number of null values\n",
        "df = df.drop(  ['aircraft'],axis = 1)\n",
        "df = df.drop(['author','review_date', 'route', 'date_flown', 'customer_review'],axis=1)\n",
        "\n"
      ],
      "metadata": {
        "id": "qRyFV4wkzkDe"
      },
      "execution_count": null,
      "outputs": []
    },
    {
      "cell_type": "code",
      "source": [
        "df['traveller_type'].fillna(df['traveller_type'].mode()[0], inplace=True)\n",
        "df['cabin'].fillna(df['cabin'].mode()[0], inplace=True)\n",
        "df['recommended'].fillna(df['recommended'].mode()[0], inplace=True)\n",
        "df['airline'].fillna(df['airline'].mode()[0], inplace=True)\n"
      ],
      "metadata": {
        "id": "iRsAHk1K0fpS"
      },
      "execution_count": null,
      "outputs": []
    },
    {
      "cell_type": "code",
      "source": [
        "# Impute missing values for numerical variables\n",
        "df['seat_comfort'].fillna(df['seat_comfort'].mean(), inplace=True)\n",
        "df['cabin_service'].fillna(df['cabin_service'].mean(), inplace=True)\n",
        "df['food_bev'].fillna(df['food_bev'].mean(), inplace=True)\n",
        "df['value_for_money'].fillna(df['value_for_money'].mean(), inplace=True)\n",
        "df['ground_service'].fillna(df['ground_service'].median(), inplace=True)\n",
        "df['overall'].fillna(df['overall'].mean(), inplace=True)\n",
        "df['entertainment'].fillna(df['entertainment'].mean(), inplace=True)\n"
      ],
      "metadata": {
        "id": "Ek0QtCfO4lcy"
      },
      "execution_count": null,
      "outputs": []
    },
    {
      "cell_type": "code",
      "source": [
        "df.isnull().sum()"
      ],
      "metadata": {
        "id": "kyRZFk_THSD8"
      },
      "execution_count": null,
      "outputs": []
    },
    {
      "cell_type": "markdown",
      "source": [
        "#### What all missing value imputation techniques have you used and why did you use those techniques?"
      ],
      "metadata": {
        "id": "7wuGOrhz0itI"
      }
    },
    {
      "cell_type": "markdown",
      "source": [
        "Answer Here."
      ],
      "metadata": {
        "id": "1ixusLtI0pqI"
      }
    },
    {
      "cell_type": "markdown",
      "source": [
        "### 3. Categorical Encoding"
      ],
      "metadata": {
        "id": "89xtkJwZ18nB"
      }
    },
    {
      "cell_type": "code",
      "source": [
        "# Encode your categorical columns\n",
        "#Label encoding\n",
        "#converting target column\n",
        "df['recommended'].replace({'yes':1,'no':0},inplace=True)"
      ],
      "metadata": {
        "id": "21JmIYMG2hEo"
      },
      "execution_count": null,
      "outputs": []
    },
    {
      "cell_type": "code",
      "source": [
        "df.head(2)"
      ],
      "metadata": {
        "id": "Gq-kO8IVA---"
      },
      "execution_count": null,
      "outputs": []
    },
    {
      "cell_type": "code",
      "source": [
        "#one hot encoding\n",
        "# One-hot encode categorical variables\n",
        "df_encoded = pd.get_dummies(df, columns=['airline', 'traveller_type', 'cabin'], drop_first=True)\n",
        "df = df_encoded"
      ],
      "metadata": {
        "id": "K5koJJFABl0a"
      },
      "execution_count": null,
      "outputs": []
    },
    {
      "cell_type": "code",
      "source": [],
      "metadata": {
        "id": "i9tP8R_GBmNg"
      },
      "execution_count": null,
      "outputs": []
    },
    {
      "cell_type": "markdown",
      "source": [
        "#### What all categorical encoding techniques have you used & why did you use those techniques?"
      ],
      "metadata": {
        "id": "67NQN5KX2AMe"
      }
    },
    {
      "cell_type": "markdown",
      "source": [
        "Answer Here."
      ],
      "metadata": {
        "id": "UDaue5h32n_G"
      }
    },
    {
      "cell_type": "markdown",
      "source": [
        "### 4. Textual Data Preprocessing\n",
        "(It's mandatory for textual dataset i.e., NLP, Sentiment Analysis, Text Clustering etc.)"
      ],
      "metadata": {
        "id": "Iwf50b-R2tYG"
      }
    },
    {
      "cell_type": "markdown",
      "source": [
        "#### 1. Expand Contraction"
      ],
      "metadata": {
        "id": "GMQiZwjn3iu7"
      }
    },
    {
      "cell_type": "code",
      "source": [
        "# Expand Contraction"
      ],
      "metadata": {
        "id": "PTouz10C3oNN"
      },
      "execution_count": null,
      "outputs": []
    },
    {
      "cell_type": "markdown",
      "source": [
        "#### 2. Lower Casing"
      ],
      "metadata": {
        "id": "WVIkgGqN3qsr"
      }
    },
    {
      "cell_type": "code",
      "source": [
        "# Lower Casing"
      ],
      "metadata": {
        "id": "88JnJ1jN3w7j"
      },
      "execution_count": null,
      "outputs": []
    },
    {
      "cell_type": "markdown",
      "source": [
        "#### 3. Removing Punctuations"
      ],
      "metadata": {
        "id": "XkPnILGE3zoT"
      }
    },
    {
      "cell_type": "code",
      "source": [
        "# Remove Punctuations"
      ],
      "metadata": {
        "id": "vqbBqNaA33c0"
      },
      "execution_count": null,
      "outputs": []
    },
    {
      "cell_type": "markdown",
      "source": [
        "#### 4. Removing URLs & Removing words and digits contain digits."
      ],
      "metadata": {
        "id": "Hlsf0x5436Go"
      }
    },
    {
      "cell_type": "code",
      "source": [
        "# Remove URLs & Remove words and digits contain digits"
      ],
      "metadata": {
        "id": "2sxKgKxu4Ip3"
      },
      "execution_count": null,
      "outputs": []
    },
    {
      "cell_type": "markdown",
      "source": [
        "#### 5. Removing Stopwords & Removing White spaces"
      ],
      "metadata": {
        "id": "mT9DMSJo4nBL"
      }
    },
    {
      "cell_type": "code",
      "source": [
        "# Remove Stopwords"
      ],
      "metadata": {
        "id": "T2LSJh154s8W"
      },
      "execution_count": null,
      "outputs": []
    },
    {
      "cell_type": "code",
      "source": [
        "# Remove White spaces"
      ],
      "metadata": {
        "id": "EgLJGffy4vm0"
      },
      "execution_count": null,
      "outputs": []
    },
    {
      "cell_type": "markdown",
      "source": [
        "#### 6. Rephrase Text"
      ],
      "metadata": {
        "id": "c49ITxTc407N"
      }
    },
    {
      "cell_type": "code",
      "source": [
        "# Rephrase Text"
      ],
      "metadata": {
        "id": "foqY80Qu48N2"
      },
      "execution_count": null,
      "outputs": []
    },
    {
      "cell_type": "markdown",
      "source": [
        "#### 7. Tokenization"
      ],
      "metadata": {
        "id": "OeJFEK0N496M"
      }
    },
    {
      "cell_type": "code",
      "source": [
        "# Tokenization"
      ],
      "metadata": {
        "id": "ijx1rUOS5CUU"
      },
      "execution_count": null,
      "outputs": []
    },
    {
      "cell_type": "markdown",
      "source": [
        "#### 8. Text Normalization"
      ],
      "metadata": {
        "id": "9ExmJH0g5HBk"
      }
    },
    {
      "cell_type": "code",
      "source": [
        "# Normalizing Text (i.e., Stemming, Lemmatization etc.)"
      ],
      "metadata": {
        "id": "AIJ1a-Zc5PY8"
      },
      "execution_count": null,
      "outputs": []
    },
    {
      "cell_type": "markdown",
      "source": [
        "##### Which text normalization technique have you used and why?"
      ],
      "metadata": {
        "id": "cJNqERVU536h"
      }
    },
    {
      "cell_type": "markdown",
      "source": [
        "Answer Here."
      ],
      "metadata": {
        "id": "Z9jKVxE06BC1"
      }
    },
    {
      "cell_type": "markdown",
      "source": [
        "#### 9. Part of speech tagging"
      ],
      "metadata": {
        "id": "k5UmGsbsOxih"
      }
    },
    {
      "cell_type": "code",
      "source": [
        "# POS Taging"
      ],
      "metadata": {
        "id": "btT3ZJBAO6Ik"
      },
      "execution_count": null,
      "outputs": []
    },
    {
      "cell_type": "markdown",
      "source": [
        "#### 10. Text Vectorization"
      ],
      "metadata": {
        "id": "T0VqWOYE6DLQ"
      }
    },
    {
      "cell_type": "code",
      "source": [
        "# Vectorizing Text"
      ],
      "metadata": {
        "id": "yBRtdhth6JDE"
      },
      "execution_count": null,
      "outputs": []
    },
    {
      "cell_type": "markdown",
      "source": [
        "##### Which text vectorization technique have you used and why?"
      ],
      "metadata": {
        "id": "qBMux9mC6MCf"
      }
    },
    {
      "cell_type": "markdown",
      "source": [
        "Answer Here."
      ],
      "metadata": {
        "id": "su2EnbCh6UKQ"
      }
    },
    {
      "cell_type": "markdown",
      "source": [
        "### 4. Feature Manipulation & Selection"
      ],
      "metadata": {
        "id": "-oLEiFgy-5Pf"
      }
    },
    {
      "cell_type": "markdown",
      "source": [
        "#### 1. Feature Manipulation"
      ],
      "metadata": {
        "id": "C74aWNz2AliB"
      }
    },
    {
      "cell_type": "code",
      "source": [
        "# Manipulate Features to minimize feature correlation and create new features"
      ],
      "metadata": {
        "id": "h1qC4yhBApWC"
      },
      "execution_count": null,
      "outputs": []
    },
    {
      "cell_type": "markdown",
      "source": [
        "#### 2. Feature Selection"
      ],
      "metadata": {
        "id": "2DejudWSA-a0"
      }
    },
    {
      "cell_type": "code",
      "source": [
        "# Select your features wisely to avoid overfitting"
      ],
      "metadata": {
        "id": "YLhe8UmaBCEE"
      },
      "execution_count": null,
      "outputs": []
    },
    {
      "cell_type": "markdown",
      "source": [
        "##### What all feature selection methods have you used  and why?"
      ],
      "metadata": {
        "id": "pEMng2IbBLp7"
      }
    },
    {
      "cell_type": "markdown",
      "source": [
        "Answer Here."
      ],
      "metadata": {
        "id": "rb2Lh6Z8BgGs"
      }
    },
    {
      "cell_type": "markdown",
      "source": [
        "##### Which all features you found important and why?"
      ],
      "metadata": {
        "id": "rAdphbQ9Bhjc"
      }
    },
    {
      "cell_type": "markdown",
      "source": [
        "Answer Here."
      ],
      "metadata": {
        "id": "fGgaEstsBnaf"
      }
    },
    {
      "cell_type": "markdown",
      "source": [
        "### 5. Data Transformation"
      ],
      "metadata": {
        "id": "TNVZ9zx19K6k"
      }
    },
    {
      "cell_type": "markdown",
      "source": [
        "#### Do you think that your data needs to be transformed? If yes, which transformation have you used. Explain Why?"
      ],
      "metadata": {
        "id": "nqoHp30x9hH9"
      }
    },
    {
      "cell_type": "code",
      "source": [
        "# Transform Your data"
      ],
      "metadata": {
        "id": "I6quWQ1T9rtH"
      },
      "execution_count": null,
      "outputs": []
    },
    {
      "cell_type": "markdown",
      "source": [
        "### 6. Data Scaling"
      ],
      "metadata": {
        "id": "rMDnDkt2B6du"
      }
    },
    {
      "cell_type": "code",
      "source": [
        "# Scaling your data"
      ],
      "metadata": {
        "id": "dL9LWpySC6x_"
      },
      "execution_count": null,
      "outputs": []
    },
    {
      "cell_type": "markdown",
      "source": [
        "##### Which method have you used to scale you data and why?"
      ],
      "metadata": {
        "id": "yiiVWRdJDDil"
      }
    },
    {
      "cell_type": "markdown",
      "source": [
        "### 7. Dimesionality Reduction"
      ],
      "metadata": {
        "id": "1UUpS68QDMuG"
      }
    },
    {
      "cell_type": "markdown",
      "source": [
        "##### Do you think that dimensionality reduction is needed? Explain Why?"
      ],
      "metadata": {
        "id": "kexQrXU-DjzY"
      }
    },
    {
      "cell_type": "markdown",
      "source": [
        "Answer Here."
      ],
      "metadata": {
        "id": "GGRlBsSGDtTQ"
      }
    },
    {
      "cell_type": "code",
      "source": [
        "# DImensionality Reduction (If needed)"
      ],
      "metadata": {
        "id": "kQfvxBBHDvCa"
      },
      "execution_count": null,
      "outputs": []
    },
    {
      "cell_type": "markdown",
      "source": [
        "##### Which dimensionality reduction technique have you used and why? (If dimensionality reduction done on dataset.)"
      ],
      "metadata": {
        "id": "T5CmagL3EC8N"
      }
    },
    {
      "cell_type": "markdown",
      "source": [
        "Answer Here."
      ],
      "metadata": {
        "id": "ZKr75IDuEM7t"
      }
    },
    {
      "cell_type": "markdown",
      "source": [
        "### 8. Data Splitting"
      ],
      "metadata": {
        "id": "BhH2vgX9EjGr"
      }
    },
    {
      "cell_type": "code",
      "source": [
        "# Split your data to train and test. Choose Splitting ratio wisely.\n",
        "#seperate independent and dependentfeatures\n",
        "y = df['recommended']\n",
        "x = df.drop(columns='recommended')\n"
      ],
      "metadata": {
        "id": "0CTyd2UwEyNM"
      },
      "execution_count": null,
      "outputs": []
    },
    {
      "cell_type": "code",
      "source": [
        "#splitting train and test split\n",
        "x_train,x_test,y_train,y_test = train_test_split(x,y,test_size=0.25,random_state=42)"
      ],
      "metadata": {
        "id": "bZdYGyqSE5d3"
      },
      "execution_count": null,
      "outputs": []
    },
    {
      "cell_type": "code",
      "source": [
        "\n",
        "#shape of x_train and x_test data\n",
        "print(x_train.shape)\n",
        "print(x_test.shape)"
      ],
      "metadata": {
        "id": "xDq9-5uVFASl"
      },
      "execution_count": null,
      "outputs": []
    },
    {
      "cell_type": "code",
      "source": [
        "\n",
        "#shape of y_train and y_test data\n",
        "print(y_train.shape)\n",
        "print(y_test.shape)"
      ],
      "metadata": {
        "id": "Sy3QYFJvFHlW"
      },
      "execution_count": null,
      "outputs": []
    },
    {
      "cell_type": "markdown",
      "source": [
        "##### What data splitting ratio have you used and why?"
      ],
      "metadata": {
        "id": "qjKvONjwE8ra"
      }
    },
    {
      "cell_type": "markdown",
      "source": [
        "Answer Here."
      ],
      "metadata": {
        "id": "Y2lJ8cobFDb_"
      }
    },
    {
      "cell_type": "markdown",
      "source": [
        "### 9. Handling Imbalanced Dataset"
      ],
      "metadata": {
        "id": "P1XJ9OREExlT"
      }
    },
    {
      "cell_type": "markdown",
      "source": [
        "##### Do you think the dataset is imbalanced? Explain Why."
      ],
      "metadata": {
        "id": "VFOzZv6IFROw"
      }
    },
    {
      "cell_type": "markdown",
      "source": [
        "Answer Here."
      ],
      "metadata": {
        "id": "GeKDIv7pFgcC"
      }
    },
    {
      "cell_type": "code",
      "source": [
        "# Handling Imbalanced Dataset (If needed)\n",
        "# Print the percentage of each label in the target variable\n",
        "print(\"The Percentage of No labels of Target Variable is\", round((y.value_counts()[0] / len(y)) * 100, 2))\n",
        "print(\"The Percentage of Yes labels of Target Variable is\", round((y.value_counts()[1] / len(y)) * 100, 2))\n",
        "\n",
        "# Set the figure size\n",
        "plt.figure(figsize=(8, 6))\n",
        "\n",
        "# Create the count plot with custom bar size and colors\n",
        "sns.countplot(x=df['recommended'], data=df, palette=['blue', 'orange'], saturation=0.8,linewidth=2)\n",
        "\n",
        "# Add labels and title\n",
        "plt.xlabel('Recommended')\n",
        "plt.ylabel('Count')\n",
        "plt.title('Count of Recommended and Not Recommended')\n"
      ],
      "metadata": {
        "id": "nQsRhhZLFiDs"
      },
      "execution_count": null,
      "outputs": []
    },
    {
      "cell_type": "markdown",
      "source": [
        "##### What technique did you use to handle the imbalance dataset and why? (If needed to be balanced)"
      ],
      "metadata": {
        "id": "TIqpNgepFxVj"
      }
    },
    {
      "cell_type": "markdown",
      "source": [
        "Answer Here."
      ],
      "metadata": {
        "id": "qbet1HwdGDTz"
      }
    },
    {
      "cell_type": "markdown",
      "source": [
        "## ***7. ML Model Implementation***"
      ],
      "metadata": {
        "id": "VfCC591jGiD4"
      }
    },
    {
      "cell_type": "markdown",
      "source": [
        "### ML Model - 1 Logistic Regression"
      ],
      "metadata": {
        "id": "OB4l2ZhMeS1U"
      }
    },
    {
      "cell_type": "code",
      "source": [
        "#Linear Regression implementation\n",
        "\n",
        "# Fit the Algorithm\n",
        "log_class = LogisticRegression(max_iter=10000)\n",
        "log_class.fit(x_train,y_train)\n",
        "\n",
        "# Predict on the model\n",
        "y_pred_logclass = log_class.predict(x_test)"
      ],
      "metadata": {
        "id": "7ebyywQieS1U"
      },
      "execution_count": null,
      "outputs": []
    },
    {
      "cell_type": "code",
      "source": [
        "#training and testing score\n",
        "print(log_class.score(x_train,y_train))\n",
        "print(log_class.score(x_test,y_test))"
      ],
      "metadata": {
        "id": "hq8nAKFyPdYH"
      },
      "execution_count": null,
      "outputs": []
    },
    {
      "cell_type": "markdown",
      "source": [
        "#### 1. Explain the ML Model used and it's performance using Evaluation metric Score Chart."
      ],
      "metadata": {
        "id": "ArJBuiUVfxKd"
      }
    },
    {
      "cell_type": "code",
      "source": [
        "# Visualizing evaluation Metric Score chart\n",
        "#report of logistic regression\n",
        "report_lR = classification_report(y_test, y_pred_logclass)\n",
        "print(report_lR)\n",
        "\n",
        "#confusion matrix of logistic regression\n",
        "confuse_mat_lr = confusion_matrix(y_test,y_pred_logclass)\n",
        "\n",
        "#plotting confusion matrix\n",
        "sns.heatmap(confuse_mat_lr, annot=True, fmt = \".1f\")"
      ],
      "metadata": {
        "id": "rqD5ZohzfxKe"
      },
      "execution_count": null,
      "outputs": []
    },
    {
      "cell_type": "markdown",
      "source": [
        "#### 2. Cross- Validation & Hyperparameter Tuning"
      ],
      "metadata": {
        "id": "4qY1EAkEfxKe"
      }
    },
    {
      "cell_type": "code",
      "source": [
        "# ML Model - 1 Implementation with hyperparameter optimization techniques (i.e., GridSearch CV, RandomSearch CV, Bayesian Optimization etc.)\n",
        "\n",
        "# Fit the Algorithm\n",
        "grid = {'C':10.0 **np.arange(-2,3),'penalty':['l1','l2','elasticnet','none']}\n",
        "cv = KFold(n_splits=5,random_state=None,shuffle=False)\n",
        "\n",
        "#hyper parameter tuning\n",
        "clf_logclass = GridSearchCV(log_class,grid,cv=cv,n_jobs=-1,scoring='f1_macro')\n",
        "\n",
        "#fit training data\n",
        "clf_logclass.fit(x_train,y_train)\n",
        "\n",
        "# Predict on the model\n",
        "y_pred_hyper_logclass = clf_logclass.predict(x_test)\n"
      ],
      "metadata": {
        "id": "Dy61ujd6fxKe"
      },
      "execution_count": null,
      "outputs": []
    },
    {
      "cell_type": "code",
      "source": [
        "\n",
        "#best parameters after hyper-parameter tuning\n",
        "print(clf_logclass.best_params_)"
      ],
      "metadata": {
        "id": "zFO0JTSGTs2R"
      },
      "execution_count": null,
      "outputs": []
    },
    {
      "cell_type": "code",
      "source": [
        "report_lR_hyper = classification_report(y_test, y_pred_hyper_logclass)\n",
        "print(report_lR_hyper)\n",
        "confuse_mat_lr_hyper = confusion_matrix(y_test,y_pred_hyper_logclass)\n",
        "\n",
        "#plotting confusion matrix\n",
        "sns.heatmap(confuse_mat_lr_hyper, annot=True, fmt = \".1f\")"
      ],
      "metadata": {
        "id": "OiE16UGNTt3N"
      },
      "execution_count": null,
      "outputs": []
    },
    {
      "cell_type": "markdown",
      "source": [
        "##### Which hyperparameter optimization technique have you used and why?"
      ],
      "metadata": {
        "id": "PiV4Ypx8fxKe"
      }
    },
    {
      "cell_type": "markdown",
      "source": [
        "Answer:The technique used in the provided code is Grid Search Cross-Validation (GridSearchCV)."
      ],
      "metadata": {
        "id": "negyGRa7fxKf"
      }
    },
    {
      "cell_type": "markdown",
      "source": [
        "#### 1. Explain the ML Model used and it's performance using Evaluation metric Score Chart."
      ],
      "metadata": {
        "id": "JWYfwnehpsJ1"
      }
    },
    {
      "cell_type": "markdown",
      "source": [
        "### ML MODEL-2 DECESION TREE"
      ],
      "metadata": {
        "id": "qdOF8dsKbimG"
      }
    },
    {
      "cell_type": "code",
      "source": [],
      "metadata": {
        "id": "Iiswx3LobiGU"
      },
      "execution_count": null,
      "outputs": []
    },
    {
      "cell_type": "code",
      "source": [
        "#Intialize decision tree model\n",
        "decision_tree_class = DecisionTreeClassifier()\n",
        "\n",
        "#fit training data\n",
        "decision_tree_class.fit(x_train,y_train)\n",
        "\n",
        "#predict the result\n",
        "y_pred_decision_tree = decision_tree_class.predict(x_test)"
      ],
      "metadata": {
        "id": "yEl-hgQWpsJ1"
      },
      "execution_count": null,
      "outputs": []
    },
    {
      "cell_type": "code",
      "source": [
        "#training and testing score\n",
        "print(decision_tree_class.score(x_train,y_train))\n",
        "print(decision_tree_class.score(x_test,y_test))"
      ],
      "metadata": {
        "id": "78d8yiZ2UrLE"
      },
      "execution_count": null,
      "outputs": []
    },
    {
      "cell_type": "code",
      "source": [
        "#report of decision tree classifier\n",
        "report_dt = classification_report(y_test, y_pred_decision_tree)\n",
        "print(report_dt)\n",
        "\n",
        "#confusion matrix for decision tree classifier\n",
        "con_mat_decision_tree = confusion_matrix(y_test,y_pred_decision_tree)\n",
        "\n",
        "#plotting the confusion matrix\n",
        "sns.heatmap(con_mat_decision_tree,annot=True,fmt='.1f')"
      ],
      "metadata": {
        "id": "cR960iOmVomP"
      },
      "execution_count": null,
      "outputs": []
    },
    {
      "cell_type": "markdown",
      "source": [],
      "metadata": {
        "id": "VWJ2VhpwbbVF"
      }
    },
    {
      "cell_type": "markdown",
      "source": [
        "#### 2. Cross- Validation & Hyperparameter Tuning"
      ],
      "metadata": {
        "id": "-jK_YjpMpsJ2"
      }
    },
    {
      "cell_type": "code",
      "source": [
        "# ML Model - 1 Implementation with hyperparameter optimization techniques (i.e., GridSearch CV, RandomSearch CV, Bayesian Optimization etc.)\n",
        "\n",
        "#preprunning\n",
        "params = {\n",
        "    'criterion':['gini','entropy','logloss'],\n",
        "    'splitter' : ['best','random'],\n",
        "    'max_depth':[5,6,7,8],\n",
        "    'max_features':['auto','sqrt','log2'],\n",
        "    \"min_samples_split\":[5,7]\n",
        "    # \"min_samples_leaf\":[2,3]\n",
        "}\n",
        "#hyperparameter tuning\n",
        "clf_decision_tree = GridSearchCV(decision_tree_class,params,cv=cv,n_jobs=-1,scoring='accuracy')\n",
        "\n",
        "# Fit the Algorithm\n",
        "clf_decision_tree.fit(x_train,y_train)\n",
        "\n",
        "# Predict on the model\n",
        "y_pred_decision_tree_hyper = clf_decision_tree.predict(x_test)\n"
      ],
      "metadata": {
        "id": "Dn0EOfS6psJ2"
      },
      "execution_count": null,
      "outputs": []
    },
    {
      "cell_type": "code",
      "source": [
        "#best parameters of hyper-parameter tuning\n",
        "print(clf_decision_tree.best_params_)\n",
        "print(clf_decision_tree.best_score_)"
      ],
      "metadata": {
        "id": "OrJXBWdRX2_3"
      },
      "execution_count": null,
      "outputs": []
    },
    {
      "cell_type": "code",
      "source": [
        "#report of decision tree classifier with hyper-parameter tuning\n",
        "report_dt_hyper = classification_report(y_test,y_pred_decision_tree_hyper)\n",
        "print(report_dt_hyper)\n",
        "\n",
        "#confusion matrix\n",
        "con_mat_dt_hyper = confusion_matrix(y_test,y_pred_decision_tree_hyper)\n",
        "\n",
        "#plot confusion matrix\n",
        "sns.heatmap(con_mat_dt_hyper,annot=True,fmt=\".1f\")\n"
      ],
      "metadata": {
        "id": "W1MBZPCGX_oJ"
      },
      "execution_count": null,
      "outputs": []
    },
    {
      "cell_type": "markdown",
      "source": [
        "##### Which hyperparameter optimization technique have you used and why?"
      ],
      "metadata": {
        "id": "HAih1iBOpsJ2"
      }
    },
    {
      "cell_type": "markdown",
      "source": [
        "Answer Here: Grid Search Cross-Validation (GridSearchCV) is employed for tuning the hyperparameters of a decision tree classifier."
      ],
      "metadata": {
        "id": "9kBgjYcdpsJ2"
      }
    },
    {
      "cell_type": "markdown",
      "source": [
        "#### 3. Explain each evaluation metric's indication towards business and the business impact pf the ML model used."
      ],
      "metadata": {
        "id": "bmKjuQ-FpsJ3"
      }
    },
    {
      "cell_type": "markdown",
      "source": [
        "Answer Here.ere’s a concise explanation of each evaluation metric and its business impact:\n",
        "\n",
        "Precision:\n",
        "\n",
        "Indication: High precision (e.g., 0.95 for class 0 and 0.96 for class 1) means fewer false positives.\n",
        "Business Impact: Reduces wasted resources and improves operational efficiency by ensuring predictions are correct.\n",
        "Recall:\n",
        "\n",
        "Indication: High recall (e.g., 0.97 for class 0 and 0.94 for class 1) means fewer false negatives.\n",
        "Business Impact: Ensures critical cases are identified, minimizing missed opportunities or risks.\n",
        "F1-Score:\n",
        "\n",
        "Indication: High F1-score (e.g., 0.96 for class 0 and 0.95 for class 1) balances precision and recall.\n",
        "Business Impact: Provides a balanced measure of model performance, ensuring reliable and effective predictions.\n",
        "Accuracy:\n",
        "\n",
        "Indication: High accuracy (0.96) indicates most predictions are correct.\n",
        "Business Impact: Reduces errors, leading to better decision-making and operational efficiency.\n",
        "Macro Average:\n",
        "\n",
        "Indication: Macro average scores (0.96) reflect balanced performance across all classes.\n",
        "Business Impact: Ensures equal treatment of all classes, important for balanced decision-making.\n",
        "Weighted Average:\n",
        "\n",
        "Indication: Weighted averages (0.96) account for class distribution.\n",
        "Business Impact: Ensures good performance across both majority and minority classes, enhancing overall effectiveness.\n",
        "Overall, the model's high performance in these metrics means reliable predictions, efficient operations, and better risk management."
      ],
      "metadata": {
        "id": "BDKtOrBQpsJ3"
      }
    },
    {
      "cell_type": "markdown",
      "source": [
        "### ML Model - 3"
      ],
      "metadata": {
        "id": "Fze-IPXLpx6K"
      }
    },
    {
      "cell_type": "code",
      "source": [
        "#Random forest classifier implementation\n",
        "#Intailize random forest model\n",
        "random_forest_classifier = RandomForestClassifier()\n",
        "\n",
        "# Fit the Algorithm\n",
        "random_forest_classifier.fit(x_train,y_train)\n",
        "# Predict on the model\n",
        "\n",
        "y_pred_rf = random_forest_classifier.predict(x_test)"
      ],
      "metadata": {
        "id": "FFrSXAtrpx6M"
      },
      "execution_count": null,
      "outputs": []
    },
    {
      "cell_type": "code",
      "source": [
        "#get train and test score\n",
        "print(random_forest_classifier.score(x_train,y_train))\n",
        "print(random_forest_classifier.score(x_test,y_test))\n",
        "\n"
      ],
      "metadata": {
        "id": "GVc0BBFtZUUn"
      },
      "execution_count": null,
      "outputs": []
    },
    {
      "cell_type": "markdown",
      "source": [
        "#### 1. Explain the ML Model used and it's performance using Evaluation metric Score Chart."
      ],
      "metadata": {
        "id": "7AN1z2sKpx6M"
      }
    },
    {
      "cell_type": "code",
      "source": [
        "# Visualizing evaluation Metric Score chart\n",
        "report_rf_classifier = classification_report(y_test,y_pred_rf)\n",
        "print(report_rf_classifier)\n",
        "\n",
        "#confusion matrix\n",
        "con_mat_rf = confusion_matrix(y_test,y_pred_rf)\n",
        "\n",
        "#plot confusion matrix\n",
        "sns.heatmap(con_mat_rf,annot=True,fmt=\".1f\")\n"
      ],
      "metadata": {
        "id": "xIY4lxxGpx6M"
      },
      "execution_count": null,
      "outputs": []
    },
    {
      "cell_type": "markdown",
      "source": [
        "#### 2. Cross- Validation & Hyperparameter Tuning"
      ],
      "metadata": {
        "id": "9PIHJqyupx6M"
      }
    },
    {
      "cell_type": "code",
      "source": [
        "# ML Model - 3 Implementation with hyperparameter optimization techniques (i.e., GridSearch CV, RandomSearch CV, Bayesian Optimization etc.)\n",
        "#prepruning\n",
        "params_rf = {\n",
        "    'criterion':['gini','entropy','logloss'],\n",
        "    'max_depth': [2,3,5,7,10],\n",
        "    'min_samples_leaf': [5,7,10],\n",
        "    \"min_samples_leaf\":[2,3],\n",
        "    'n_estimators': [10,25,30]\n",
        "}\n",
        "\n",
        "#hyper-parameter tuning\n",
        "clf_rf = GridSearchCV(random_forest_classifier,params_rf,cv=cv,n_jobs=-1,scoring='accuracy')\n",
        "\n",
        "# Fit the Algorithm\n",
        "clf_rf.fit(x_train,y_train)\n",
        "\n",
        "\n",
        "# Predict on the model\n",
        "#predict result\n",
        "y_pred_rf_hyper=clf_rf.predict(x_test)\n"
      ],
      "metadata": {
        "id": "eSVXuaSKpx6M"
      },
      "execution_count": null,
      "outputs": []
    },
    {
      "cell_type": "code",
      "source": [
        "#train and test score\n",
        "print(clf_rf.score(x_train,y_train))\n",
        "print(clf_rf.score(x_test,y_test))"
      ],
      "metadata": {
        "id": "2wQ8JckEbVRh"
      },
      "execution_count": null,
      "outputs": []
    },
    {
      "cell_type": "code",
      "source": [
        "#best parameters after hyper-parameter tuning\n",
        "print(clf_rf.best_params_)\n",
        "print(clf_rf.best_score_)\n",
        "\n",
        "#confusion matrix\n",
        "con_mat_rf_hyper = confusion_matrix(y_test,y_pred_rf_hyper)\n",
        "\n",
        "#plot confusion matrix\n",
        "sns.heatmap(con_mat_rf_hyper,annot=True,fmt='.1f')"
      ],
      "metadata": {
        "id": "wgz471Xuba9h"
      },
      "execution_count": null,
      "outputs": []
    },
    {
      "cell_type": "code",
      "source": [],
      "metadata": {
        "id": "TXfo8P7SbVr5"
      },
      "execution_count": null,
      "outputs": []
    },
    {
      "cell_type": "markdown",
      "source": [
        "##### Which hyperparameter optimization technique have you used and why?"
      ],
      "metadata": {
        "id": "_-qAgymDpx6N"
      }
    },
    {
      "cell_type": "markdown",
      "source": [
        "Answer Here."
      ],
      "metadata": {
        "id": "lQMffxkwpx6N"
      }
    },
    {
      "cell_type": "markdown",
      "source": [
        "##### Have you seen any improvement? Note down the improvement with updates Evaluation metric Score Chart."
      ],
      "metadata": {
        "id": "Z-hykwinpx6N"
      }
    },
    {
      "cell_type": "markdown",
      "source": [
        "Answer:GridSearchCV was chosen because it performs an exhaustive search over a specified parameter grid. This technique evaluates all possible combinations of hyperparameters, ensuring that the best set of parameters is identified for the model. This thorough approach helps in optimizing the model's performance by systematically exploring different hyperparameter values and selecting the combination that yields the highest accuracy."
      ],
      "metadata": {
        "id": "MzVzZC6opx6N"
      }
    },
    {
      "cell_type": "markdown",
      "source": [
        "### 1. Which Evaluation metrics did you consider for a positive business impact and why?"
      ],
      "metadata": {
        "id": "h_CCil-SKHpo"
      }
    },
    {
      "cell_type": "markdown",
      "source": [
        "Answer Here."
      ],
      "metadata": {
        "id": "jHVz9hHDKFms"
      }
    },
    {
      "cell_type": "markdown",
      "source": [
        "### 2. Which ML model did you choose from the above created models as your final prediction model and why?"
      ],
      "metadata": {
        "id": "cBFFvTBNJzUa"
      }
    },
    {
      "cell_type": "markdown",
      "source": [
        "Answer Here."
      ],
      "metadata": {
        "id": "6ksF5Q1LKTVm"
      }
    },
    {
      "cell_type": "markdown",
      "source": [
        "### 3. Explain the model which you have used and the feature importance using any model explainability tool?"
      ],
      "metadata": {
        "id": "HvGl1hHyA_VK"
      }
    },
    {
      "cell_type": "markdown",
      "source": [
        "Answer Here."
      ],
      "metadata": {
        "id": "YnvVTiIxBL-C"
      }
    },
    {
      "cell_type": "markdown",
      "source": [
        "## ***8.*** ***Future Work (Optional)***"
      ],
      "metadata": {
        "id": "EyNgTHvd2WFk"
      }
    },
    {
      "cell_type": "markdown",
      "source": [
        "### 1. Save the best performing ml model in a pickle file or joblib file format for deployment process.\n"
      ],
      "metadata": {
        "id": "KH5McJBi2d8v"
      }
    },
    {
      "cell_type": "code",
      "source": [
        "# Save the File"
      ],
      "metadata": {
        "id": "bQIANRl32f4J"
      },
      "execution_count": null,
      "outputs": []
    },
    {
      "cell_type": "markdown",
      "source": [
        "### 2. Again Load the saved model file and try to predict unseen data for a sanity check.\n"
      ],
      "metadata": {
        "id": "iW_Lq9qf2h6X"
      }
    },
    {
      "cell_type": "code",
      "source": [
        "# Load the File and predict unseen data."
      ],
      "metadata": {
        "id": "oEXk9ydD2nVC"
      },
      "execution_count": null,
      "outputs": []
    },
    {
      "cell_type": "markdown",
      "source": [
        "### ***Congrats! Your model is successfully created and ready for deployment on a live server for a real user interaction !!!***"
      ],
      "metadata": {
        "id": "-Kee-DAl2viO"
      }
    },
    {
      "cell_type": "markdown",
      "source": [
        "# **Conclusion**"
      ],
      "metadata": {
        "id": "gCX9965dhzqZ"
      }
    },
    {
      "cell_type": "code",
      "source": [
        "def accuracy_of_each_model(model, X_train, X_test, y_train, y_test):\n",
        "    # Fit the model\n",
        "    model.fit(X_train, y_train)\n",
        "\n",
        "    # Predict on the training and testing data\n",
        "    y_train_preds = model.predict(X_train)\n",
        "    y_test_preds = model.predict(X_test)\n",
        "\n",
        "    # Calculate evaluation metrics\n",
        "    train_accuracy = accuracy_score(y_train, y_train_preds)\n",
        "    test_accuracy = accuracy_score(y_test, y_test_preds)\n",
        "\n",
        "    train_precision = precision_score(y_train, y_train_preds)\n",
        "    test_precision = precision_score(y_test, y_test_preds)\n",
        "\n",
        "    train_recall = recall_score(y_train, y_train_preds)\n",
        "    test_recall = recall_score(y_test, y_test_preds)\n",
        "\n",
        "    train_roc_auc = roc_auc_score(y_train, y_train_preds)\n",
        "    test_roc_auc = roc_auc_score(y_test, y_test_preds)\n",
        "\n",
        "    # Create a DataFrame to store the metrics\n",
        "    metrics_df = pd.DataFrame({\n",
        "        'Metric': ['Accuracy', 'Precision', 'Recall', 'ROC AUC'],\n",
        "        'Train Score': [train_accuracy, train_precision, train_recall, train_roc_auc],\n",
        "        'Test Score': [test_accuracy, test_precision, test_recall, test_roc_auc]\n",
        "    })\n",
        "\n",
        "    return metrics_df\n",
        "\n",
        "# List of models and their names\n",
        "models = [log_class, clf_decision_tree, clf_rf]\n",
        "names = ['Logistic Regression', 'Decision Tree', 'Random Forest', 'K-Nearest Neighbors']\n",
        "\n",
        "# Loop through each model\n",
        "for model, name in zip(models, names):\n",
        "    print(\"-*-*-\"*3 + f\" {name} \" + \"-*-*-\"*3)\n",
        "    print(\"\")\n",
        "    metrics_df = accuracy_of_each_model(model, x_train, x_test, y_train, y_test)\n",
        "    print(metrics_df)\n",
        "    print(\"\")"
      ],
      "metadata": {
        "id": "8jpoi_hWqbb0"
      },
      "execution_count": null,
      "outputs": []
    },
    {
      "cell_type": "markdown",
      "source": [
        "Write the conclusionConclusion\n",
        "In this machine learning project, we evaluated three classification models: Logistic Regression, Decision Tree, and Random Forest, each with its respective performance metrics.\n",
        "\n",
        "Logistic Regression demonstrated high performance with an accuracy of 94.5% on the test set and balanced precision and recall values, indicating reliable predictions across classes. The ROC AUC score of 0.945 further supports its robust performance.\n",
        "\n",
        "Decision Tree achieved an accuracy of 92.5% on the test set, with good precision and recall scores. However, its performance was slightly lower compared to Logistic Regression and Random Forest. The ROC AUC score of 0.924 reflects its moderate performance in distinguishing between classes.\n",
        "\n",
        "Random Forest outperformed the other models, with the highest test accuracy of 95.7%, precision of 96.0%, and recall of 94.8%. The ROC AUC score of 0.957 indicates its superior ability to discriminate between classes. This model’s robustness is due to its ensemble learning approach, which aggregates multiple decision trees to enhance prediction accuracy.\n",
        "\n",
        "Overall, Random Forest is the most effective model for this dataset, demonstrating the highest accuracy, precision, recall, and ROC AUC score. It provides the most reliable and accurate predictions, making it the preferred choice for deployment in practical applications.\n",
        "\n",
        "\n",
        "\n",
        "\n",
        "\n",
        "\n",
        " here."
      ],
      "metadata": {
        "id": "Fjb1IsQkh3yE"
      }
    },
    {
      "cell_type": "markdown",
      "source": [
        "### ***Hurrah! You have successfully completed your Machine Learning Capstone Project !!!***"
      ],
      "metadata": {
        "id": "gIfDvo9L0UH2"
      }
    }
  ]
}